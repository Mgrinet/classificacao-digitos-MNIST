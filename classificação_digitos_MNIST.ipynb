{
  "nbformat": 4,
  "nbformat_minor": 0,
  "metadata": {
    "kernelspec": {
      "display_name": "Python 3",
      "language": "python",
      "name": "python3"
    },
    "language_info": {
      "codemirror_mode": {
        "name": "ipython",
        "version": 3
      },
      "file_extension": ".py",
      "mimetype": "text/x-python",
      "name": "python",
      "nbconvert_exporter": "python",
      "pygments_lexer": "ipython3",
      "version": "3.6.5"
    },
    "nav_menu": {},
    "toc": {
      "navigate_menu": true,
      "number_sections": true,
      "sideBar": true,
      "threshold": 6,
      "toc_cell": false,
      "toc_section_display": "block",
      "toc_window_display": false
    },
    "colab": {
      "name": "classificação_digitos_MNIST.ipynb",
      "provenance": [],
      "include_colab_link": true
    }
  },
  "cells": [
    {
      "cell_type": "markdown",
      "metadata": {
        "id": "view-in-github",
        "colab_type": "text"
      },
      "source": [
        "<a href=\"https://colab.research.google.com/github/Mgrinet/classificacao-digitos-MNIST/blob/master/classifica%C3%A7%C3%A3o_digitos_MNIST.ipynb\" target=\"_parent\"><img src=\"https://colab.research.google.com/assets/colab-badge.svg\" alt=\"Open In Colab\"/></a>"
      ]
    },
    {
      "cell_type": "markdown",
      "metadata": {
        "id": "0EWDHqsNR3WQ",
        "colab_type": "text"
      },
      "source": [
        "# Classificação de Digitos - MNIST\n"
      ]
    },
    {
      "cell_type": "markdown",
      "metadata": {
        "id": "wGJLzxTbR3WS",
        "colab_type": "text"
      },
      "source": [
        "## Configuração"
      ]
    },
    {
      "cell_type": "markdown",
      "metadata": {
        "id": "Fgy704tkR3WT",
        "colab_type": "text"
      },
      "source": [
        "Primeiro, vamos garantir que este notebook funcione bem tanto no python 2 quanto no 3, importe alguns módulos comuns, garanta que o MatplotLib plote figuras em linha e prepare uma função para salvar os números:"
      ]
    },
    {
      "cell_type": "code",
      "metadata": {
        "id": "9gG6lbleR3WU",
        "colab_type": "code",
        "colab": {}
      },
      "source": [
        "# Para funcionar tanto no python 2 quanto no python 3\n",
        "from __future__ import division, print_function, unicode_literals\n",
        "\n",
        "# Importar bibliotecas\n",
        "import numpy as np\n",
        "import os\n",
        "\n",
        "# Estabilizar aleatoriedade do notebook\n",
        "np.random.seed(42)\n",
        "\n",
        "# plotar os graficos\n",
        "%matplotlib inline\n",
        "import matplotlib as mpl\n",
        "import matplotlib.pyplot as plt\n",
        "mpl.rc('axes', labelsize=14)\n",
        "mpl.rc('xtick', labelsize=12)\n",
        "mpl.rc('ytick', labelsize=12)"
      ],
      "execution_count": 0,
      "outputs": []
    },
    {
      "cell_type": "markdown",
      "metadata": {
        "id": "PGT6hhihR3WX",
        "colab_type": "text"
      },
      "source": [
        "## MNIST"
      ]
    },
    {
      "cell_type": "markdown",
      "metadata": {
        "id": "0FUNJe8wR3WX",
        "colab_type": "text"
      },
      "source": [
        "Neste capítulo, usaremos o conjunto de dados MNIST, que é um conjunto de 70.000\n",
        "imagens de dígitos manuscritas por alunos do ensino médio e funcionários do Censo dos EUA. Cada imagem é rotulada com o dígito que representa\n",
        "\n",
        "O Scikit-Learn fornece muitas funções auxiliares para baixar datasets populares, e o MNIST é um deles. O código a seguir busca o conjunto de dados MNIST:\n",
        "\n",
        "**Atenção**: `fetch_mldata()` está obsoleto desde o Scikit-Learn 0.20. Você deve usar `fetch_openml()`. No entanto, ele retorna o conjunto de dados MNIST não classificado, enquanto `fetch_mldata()` retornou o conjunto de dados classificado por destino (o conjunto de treinamento e o teste de teste foram classificados separadamente). Em geral, isso é bom, mas se você quiser obter exatamente os mesmos resultados de antes, precisará classificar o conjunto de dados usando a seguinte função:"
      ]
    },
    {
      "cell_type": "code",
      "metadata": {
        "id": "HgOlqn08R3WY",
        "colab_type": "code",
        "colab": {}
      },
      "source": [
        "def sort_by_target(mnist):\n",
        "    reorder_train = np.array(sorted([(target, i) for i, target in enumerate(mnist.target[:60000])]))[:, 1]\n",
        "    reorder_test = np.array(sorted([(target, i) for i, target in enumerate(mnist.target[60000:])]))[:, 1]\n",
        "    mnist.data[:60000] = mnist.data[reorder_train]\n",
        "    mnist.target[:60000] = mnist.target[reorder_train]\n",
        "    mnist.data[60000:] = mnist.data[reorder_test + 60000]\n",
        "    mnist.target[60000:] = mnist.target[reorder_test + 60000]"
      ],
      "execution_count": 0,
      "outputs": []
    },
    {
      "cell_type": "code",
      "metadata": {
        "id": "uVFrYNnDR3Wa",
        "colab_type": "code",
        "colab": {},
        "outputId": "7c26c353-4201-4d90-e22e-9694a44455c4"
      },
      "source": [
        "try:\n",
        "    from sklearn.datasets import fetch_openml\n",
        "    mnist = fetch_openml('mnist_784', version=1, cache=True)\n",
        "    mnist.target = mnist.target.astype(np.int8) # fetch_openml() returns targets as strings\n",
        "    sort_by_target(mnist) # fetch_openml() returns an unsorted dataset\n",
        "except ImportError:\n",
        "    from sklearn.datasets import fetch_mldata\n",
        "    mnist = fetch_mldata('MNIST original')\n",
        "mnist[\"data\"], mnist[\"target\"], mnist[\"DESCR\"]"
      ],
      "execution_count": 0,
      "outputs": [
        {
          "output_type": "execute_result",
          "data": {
            "text/plain": [
              "(array([[0, 0, 0, ..., 0, 0, 0],\n",
              "        [0, 0, 0, ..., 0, 0, 0],\n",
              "        [0, 0, 0, ..., 0, 0, 0],\n",
              "        ...,\n",
              "        [0, 0, 0, ..., 0, 0, 0],\n",
              "        [0, 0, 0, ..., 0, 0, 0],\n",
              "        [0, 0, 0, ..., 0, 0, 0]], dtype=uint8),\n",
              " array([0., 0., 0., ..., 9., 9., 9.]),\n",
              " 'mldata.org dataset: mnist-original')"
            ]
          },
          "metadata": {
            "tags": []
          },
          "execution_count": 3
        }
      ]
    },
    {
      "cell_type": "markdown",
      "metadata": {
        "id": "ql0SyQOAR3Wd",
        "colab_type": "text"
      },
      "source": [
        "Os datasets carregados pelo Scikit-Learn geralmente têm uma estrutura de dicionário semelhante, incluindo:\n",
        "\n",
        "• Uma chave \"DESCR\" descrevendo o conjunto de dados\n",
        "\n",
        "• Uma chave \"data\" contendo uma matriz com uma linha por instância e uma coluna por característica\n",
        "\n",
        "• Uma chave \"target\" contendo uma matriz com os rótulos"
      ]
    },
    {
      "cell_type": "code",
      "metadata": {
        "id": "U1IWQ0oLR3We",
        "colab_type": "code",
        "colab": {},
        "outputId": "abebd929-313a-4828-9938-40ba2bb192c5"
      },
      "source": [
        "mnist.data.shape"
      ],
      "execution_count": 0,
      "outputs": [
        {
          "output_type": "execute_result",
          "data": {
            "text/plain": [
              "(70000, 784)"
            ]
          },
          "metadata": {
            "tags": []
          },
          "execution_count": 4
        }
      ]
    },
    {
      "cell_type": "code",
      "metadata": {
        "id": "AmBg6IFYR3Wg",
        "colab_type": "code",
        "colab": {},
        "outputId": "4a2eb373-ad75-4fcd-c207-74dd298c0391"
      },
      "source": [
        "X, y = mnist[\"data\"], mnist[\"target\"]\n",
        "X.shape"
      ],
      "execution_count": 0,
      "outputs": [
        {
          "output_type": "execute_result",
          "data": {
            "text/plain": [
              "(70000, 784)"
            ]
          },
          "metadata": {
            "tags": []
          },
          "execution_count": 5
        }
      ]
    },
    {
      "cell_type": "code",
      "metadata": {
        "id": "9Zsc8uCAR3Wi",
        "colab_type": "code",
        "colab": {},
        "outputId": "f0be1453-6649-4f5b-8981-df623ad59b80"
      },
      "source": [
        "y.shape"
      ],
      "execution_count": 0,
      "outputs": [
        {
          "output_type": "execute_result",
          "data": {
            "text/plain": [
              "(70000,)"
            ]
          },
          "metadata": {
            "tags": []
          },
          "execution_count": 6
        }
      ]
    },
    {
      "cell_type": "markdown",
      "metadata": {
        "id": "8k8ZvwpNR3Wk",
        "colab_type": "text"
      },
      "source": [
        "Existem 70.000 imagens e cada imagem possui 784 features. Isso ocorre porque cada imagem é 28 × 28 pixels, e cada recurso representa apenas a intensidade de um pixel, de 0 (branco) a 255 (preto). Vamos dar uma olhada em um dígito do conjunto de dados. Tudo o que você precisa fazer é pegar o vetor de features de uma instância, reformulá-lo para uma matriz 28 × 28 e exibi-lo usando Função `imshow()` do Matplotlib:"
      ]
    },
    {
      "cell_type": "code",
      "metadata": {
        "id": "UAdCx_0nR3Wl",
        "colab_type": "code",
        "colab": {},
        "outputId": "9cb566f3-8605-4077-e39d-83d4053236f8"
      },
      "source": [
        "28*28"
      ],
      "execution_count": 0,
      "outputs": [
        {
          "output_type": "execute_result",
          "data": {
            "text/plain": [
              "784"
            ]
          },
          "metadata": {
            "tags": []
          },
          "execution_count": 7
        }
      ]
    },
    {
      "cell_type": "code",
      "metadata": {
        "id": "bTbgrqmPR3Wn",
        "colab_type": "code",
        "colab": {},
        "outputId": "0a1e12b8-ec5f-4382-95ac-422de25f7322"
      },
      "source": [
        "some_digit = X[36000]\n",
        "some_digit_image = some_digit.reshape(28, 28)\n",
        "plt.imshow(some_digit_image, cmap = mpl.cm.binary,\n",
        "           interpolation=\"nearest\")\n",
        "plt.axis(\"off\")\n",
        "plt.show()\n"
      ],
      "execution_count": 0,
      "outputs": [
        {
          "output_type": "stream",
          "text": [
            "Saving figure some_digit_plot\n"
          ],
          "name": "stdout"
        },
        {
          "output_type": "display_data",
          "data": {
            "image/png": "[encoded data removed]",
            "text/plain": [
              "<Figure size 432x288 with 1 Axes>"
            ]
          },
          "metadata": {
            "tags": []
          }
        }
      ]
    },
    {
      "cell_type": "markdown",
      "metadata": {
        "id": "BXCIdxf9R3Wq",
        "colab_type": "text"
      },
      "source": [
        "Isso parece um 5 e, de fato, é isso que o label nos confirma:"
      ]
    },
    {
      "cell_type": "code",
      "metadata": {
        "id": "YcGPJWvPR3Wq",
        "colab_type": "code",
        "colab": {},
        "outputId": "1828ebad-d684-45de-dda4-454f79640f41"
      },
      "source": [
        "y[36000]"
      ],
      "execution_count": 0,
      "outputs": [
        {
          "output_type": "execute_result",
          "data": {
            "text/plain": [
              "5.0"
            ]
          },
          "metadata": {
            "tags": []
          },
          "execution_count": 9
        }
      ]
    },
    {
      "cell_type": "code",
      "metadata": {
        "id": "JDvAW_FwR3Ws",
        "colab_type": "code",
        "colab": {}
      },
      "source": [
        "def plot_digit(data):\n",
        "    image = data.reshape(28, 28)\n",
        "    plt.imshow(image, cmap = mpl.cm.binary,\n",
        "               interpolation=\"nearest\")\n",
        "    plt.axis(\"off\")"
      ],
      "execution_count": 0,
      "outputs": []
    },
    {
      "cell_type": "code",
      "metadata": {
        "id": "AlCiTEFrR3Wu",
        "colab_type": "code",
        "colab": {}
      },
      "source": [
        "# EXTRA\n",
        "def plot_digits(instances, images_per_row=10, **options):\n",
        "    size = 28\n",
        "    images_per_row = min(len(instances), images_per_row)\n",
        "    images = [instance.reshape(size,size) for instance in instances]\n",
        "    n_rows = (len(instances) - 1) // images_per_row + 1\n",
        "    row_images = []\n",
        "    n_empty = n_rows * images_per_row - len(instances)\n",
        "    images.append(np.zeros((size, size * n_empty)))\n",
        "    for row in range(n_rows):\n",
        "        rimages = images[row * images_per_row : (row + 1) * images_per_row]\n",
        "        row_images.append(np.concatenate(rimages, axis=1))\n",
        "    image = np.concatenate(row_images, axis=0)\n",
        "    plt.imshow(image, cmap = mpl.cm.binary, **options)\n",
        "    plt.axis(\"off\")"
      ],
      "execution_count": 0,
      "outputs": []
    },
    {
      "cell_type": "markdown",
      "metadata": {
        "id": "aYVs9qVHR3Ww",
        "colab_type": "text"
      },
      "source": [
        "Esta figura mostra mais algumas imagens do conjunto de dados MNIST para dar uma ideia da complexidade da tarefa de classificação."
      ]
    },
    {
      "cell_type": "code",
      "metadata": {
        "id": "MMB8SKuaR3Wx",
        "colab_type": "code",
        "colab": {},
        "outputId": "ed915260-e904-48fe-aa65-fe934ea939c9"
      },
      "source": [
        "plt.figure(figsize=(9,9))\n",
        "example_images = np.r_[X[:12000:600], X[13000:30600:600], X[30600:60000:590]]\n",
        "plot_digits(example_images, images_per_row=10)\n",
        "save_fig(\"more_digits_plot\")\n",
        "plt.show()"
      ],
      "execution_count": 0,
      "outputs": [
        {
          "output_type": "stream",
          "text": [
            "Saving figure more_digits_plot\n"
          ],
          "name": "stdout"
        },
        {
          "output_type": "display_data",
          "data": {
            "image/png": "[encoded data removed]",
            "text/plain": [
              "<Figure size 648x648 with 1 Axes>"
            ]
          },
          "metadata": {
            "tags": []
          }
        }
      ]
    },
    {
      "cell_type": "markdown",
      "metadata": {
        "id": "pTBnIEtYR3Wz",
        "colab_type": "text"
      },
      "source": [
        "**Lembrando**: Você deve sempre criar um conjunto de testes e colocá-lo de lado antes de inspecionar os dados\n",
        "de perto. O conjunto de dados MNIST na verdade já está dividido em um conjunto de treinamento (os primeiros 60.000\n",
        "imagens) e um conjunto de teste (as últimas 10.000 imagens):"
      ]
    },
    {
      "cell_type": "code",
      "metadata": {
        "id": "RmBQbQILR3W0",
        "colab_type": "code",
        "colab": {}
      },
      "source": [
        "X_train, X_test, y_train, y_test = X[:60000], X[60000:], y[:60000], y[60000:]"
      ],
      "execution_count": 0,
      "outputs": []
    },
    {
      "cell_type": "markdown",
      "metadata": {
        "id": "NDlXuQ-PR3W1",
        "colab_type": "text"
      },
      "source": [
        "Vamos também embaralhar (shuffle) o conjunto de treinamento; isso garantirá que todas as dobras (folds) de validação cruzada seja semelhante (você não quer que uma dobra fique faltando alguns dígitos). Além disso, alguns algoritmos de aprendizado são sensíveis à ordem das instâncias de treinamento, e eles executam\n",
        "mal se eles obterem muitos casos semelhantes seguidos. Embaralhar o conjunto de dados garante que isso não aconteça:"
      ]
    },
    {
      "cell_type": "code",
      "metadata": {
        "id": "v2jdnYLUR3W2",
        "colab_type": "code",
        "colab": {}
      },
      "source": [
        "import numpy as np\n",
        "\n",
        "shuffle_index = np.random.permutation(60000)\n",
        "X_train, y_train = X_train[shuffle_index], y_train[shuffle_index]"
      ],
      "execution_count": 0,
      "outputs": []
    },
    {
      "cell_type": "markdown",
      "metadata": {
        "id": "5PKTYpKkR3W4",
        "colab_type": "text"
      },
      "source": [
        "**Atenção!** O embaralhamento pode ser uma má ideia em alguns contextos - por exemplo, se você estiver trabalhando em dados de séries temporais (como preços do mercado de ações ou condições climáticas). Vamos explorar isso nas próximas aulas."
      ]
    },
    {
      "cell_type": "markdown",
      "metadata": {
        "id": "u4ffn5xeR3W5",
        "colab_type": "text"
      },
      "source": [
        "## Classificador Binario\n",
        "\n",
        "Vamos simplificar o problema por enquanto e tentar identificar apenas um dígito - por exemplo, o número 5. Esse \"detector de número 5\" será um exemplo de um classificador binário, capaz de distinguir entre apenas duas classes, 5 e não-5. Vamos criar os vetores de destino para esta tarefa de classificação:"
      ]
    },
    {
      "cell_type": "code",
      "metadata": {
        "id": "2BUrQZyfR3W5",
        "colab_type": "code",
        "colab": {}
      },
      "source": [
        "y_train_5 = (y_train == 5) #Verdadeiro para todos os 5s, Falso para todos os outros dígitos.\n",
        "y_test_5 = (y_test == 5)"
      ],
      "execution_count": 0,
      "outputs": []
    },
    {
      "cell_type": "markdown",
      "metadata": {
        "id": "_yVF6h3aR3W7",
        "colab_type": "text"
      },
      "source": [
        "Ok, agora vamos escolher um classificador e treiná-lo. Um bom lugar para começar é com um classificador de gradiente descendente estocástico (SGD), usando a classe SGDClassifier do Scikit-Learn. Esse classificador tem a vantagem de ser capaz de lidar com conjuntos de dados muito grandes de maneira eficiente. Isto é em parte porque o SGD lida com instâncias de treinamento independentemente, uma de cada vez (o que também torna o SGD adequado para o aprendizado online), como veremos mais adiante. Vamos criar um SGDClassifier e treiná-lo em todo o conjunto de treinamento:\n",
        "\n",
        "**Nota**: Alguns hiperparâmetros terão um valor padrão diferente em versões futuras do Scikit-Learn, portanto, um aviso será emitido se você não os definir explicitamente. É por isso que definimos `max_iter=5` e` tol=-np.infty`, para obter os mesmos resultados que no livro, evitando os avisos."
      ]
    },
    {
      "cell_type": "code",
      "metadata": {
        "id": "Zmf2BKCqR3W8",
        "colab_type": "code",
        "colab": {},
        "outputId": "b1ea2411-2a69-406b-fa7b-e5bed315c790"
      },
      "source": [
        "from sklearn.linear_model import SGDClassifier\n",
        "\n",
        "sgd_clf = SGDClassifier(max_iter=5, tol=-np.infty, random_state=42)\n",
        "sgd_clf.fit(X_train, y_train_5)"
      ],
      "execution_count": 0,
      "outputs": [
        {
          "output_type": "execute_result",
          "data": {
            "text/plain": [
              "SGDClassifier(alpha=0.0001, average=False, class_weight=None, epsilon=0.1,\n",
              "       eta0=0.0, fit_intercept=True, l1_ratio=0.15,\n",
              "       learning_rate='optimal', loss='hinge', max_iter=5, n_iter=None,\n",
              "       n_jobs=1, penalty='l2', power_t=0.5, random_state=42, shuffle=True,\n",
              "       tol=-inf, verbose=0, warm_start=False)"
            ]
          },
          "metadata": {
            "tags": []
          },
          "execution_count": 16
        }
      ]
    },
    {
      "cell_type": "markdown",
      "metadata": {
        "id": "UZzLJJmfR3W-",
        "colab_type": "text"
      },
      "source": [
        "Agora vamos usá-lo para detectar imagens do número 5:"
      ]
    },
    {
      "cell_type": "code",
      "metadata": {
        "id": "oGtp_0ptR3XE",
        "colab_type": "code",
        "colab": {},
        "outputId": "509f827a-0b8b-4a77-d006-e9c9840654bb"
      },
      "source": [
        "sgd_clf.predict([some_digit])"
      ],
      "execution_count": 0,
      "outputs": [
        {
          "output_type": "execute_result",
          "data": {
            "text/plain": [
              "array([ True])"
            ]
          },
          "metadata": {
            "tags": []
          },
          "execution_count": 17
        }
      ]
    },
    {
      "cell_type": "markdown",
      "metadata": {
        "id": "odOQOs0wR3XH",
        "colab_type": "text"
      },
      "source": [
        "O classificador adivinha que essa imagem representa um 5 (True). Agora, vamos avaliar o desempenho desse modelo."
      ]
    },
    {
      "cell_type": "markdown",
      "metadata": {
        "id": "-ezlKcnvR3XI",
        "colab_type": "text"
      },
      "source": [
        "## Medidas de Desempenho\n",
        "\n",
        "Avaliar um classificador é bem mais complicado do que avaliar um regressor, então vamos dar uma olhada nas varias medidas de desempenho disponíveis!\n",
        "\n",
        "\n",
        "**Medindo Precisão Usando Validação Cruzada (Cross-Validation)**\n",
        "\n",
        "Uma boa maneira de avaliar um modelo é usar validação cruzada"
      ]
    },
    {
      "cell_type": "code",
      "metadata": {
        "id": "ENBm12hiR3XI",
        "colab_type": "code",
        "colab": {},
        "outputId": "3ee72ceb-5f17-49b5-90b3-3aa27c35445c"
      },
      "source": [
        "from sklearn.model_selection import cross_val_score\n",
        "cross_val_score(sgd_clf, X_train, y_train_5, cv=3, scoring=\"accuracy\")"
      ],
      "execution_count": 0,
      "outputs": [
        {
          "output_type": "execute_result",
          "data": {
            "text/plain": [
              "array([0.9502 , 0.96565, 0.96495])"
            ]
          },
          "metadata": {
            "tags": []
          },
          "execution_count": 18
        }
      ]
    },
    {
      "cell_type": "markdown",
      "metadata": {
        "id": "JBljhkMtR3XK",
        "colab_type": "text"
      },
      "source": [
        "As vezes, você precisa de mais controle sobre o processo de validação cruzada do que o que `cross_val_score()` e funções similares fornecem. Nesses casos, você pode implementar a validação cruzada por conta própria; Na verdade, é bastante simples. O código a seguir faz basicamente o mesmo que o código `cross_val_score()` anterior e imprime o mesmo resultado:"
      ]
    },
    {
      "cell_type": "code",
      "metadata": {
        "id": "7aLmk1SeR3XL",
        "colab_type": "code",
        "colab": {}
      },
      "source": [
        "from sklearn.model_selection import StratifiedKFold\n",
        "from sklearn.base import clone\n",
        "\n",
        "skfolds = StratifiedKFold(n_splits=3, random_state=42)"
      ],
      "execution_count": 0,
      "outputs": []
    },
    {
      "cell_type": "markdown",
      "metadata": {
        "id": "8yuuYbNCR3XN",
        "colab_type": "text"
      },
      "source": [
        "A classe StratifiedKFold realiza amostragem estratificada para produzir dobras (folds) que contêm uma proporção representativa de cada classe. Em cada iteração, o código cria um clone do classificador, treina os clones nas dobras de treinamento e faz previsões na dobra de teste. Em seguida, conta o número de previsões corretas e gera a proporção de previsões corretas."
      ]
    },
    {
      "cell_type": "code",
      "metadata": {
        "id": "2TChjOK-R3XN",
        "colab_type": "code",
        "colab": {},
        "outputId": "c1c5fe4c-49ca-4589-9e9f-063eda72fc4a"
      },
      "source": [
        "for train_index, test_index in skfolds.split(X_train, y_train_5):\n",
        "    clone_clf = clone(sgd_clf)\n",
        "    X_train_folds = X_train[train_index]\n",
        "    y_train_folds = (y_train_5[train_index])\n",
        "    X_test_fold = X_train[test_index]\n",
        "    y_test_fold = (y_train_5[test_index])\n",
        "\n",
        "    clone_clf.fit(X_train_folds, y_train_folds)\n",
        "    y_pred = clone_clf.predict(X_test_fold)\n",
        "    n_correct = sum(y_pred == y_test_fold)\n",
        "    print(n_correct / len(y_pred))"
      ],
      "execution_count": 0,
      "outputs": [
        {
          "output_type": "stream",
          "text": [
            "0.9502\n",
            "0.96565\n",
            "0.96495\n"
          ],
          "name": "stdout"
        }
      ]
    },
    {
      "cell_type": "code",
      "metadata": {
        "id": "nJ-aUqzdR3XQ",
        "colab_type": "code",
        "colab": {}
      },
      "source": [
        "from sklearn.base import BaseEstimator\n",
        "class Never5Classifier(BaseEstimator):\n",
        "    def fit(self, X, y=None):\n",
        "        pass\n",
        "    def predict(self, X):\n",
        "        return np.zeros((len(X), 1), dtype=bool)"
      ],
      "execution_count": 0,
      "outputs": []
    },
    {
      "cell_type": "markdown",
      "metadata": {
        "id": "JRYVEs9dR3XR",
        "colab_type": "text"
      },
      "source": [
        "Vamos usar a função `cross_val_score()` para avaliar o modelo SGDClassifier usando validação cruzada de K-fold com três dobras. Lembrando que a validação cruzada K-fold significa dividir o conjunto de treinamento em K dobras (neste caso, três), depois fazer previsões e avaliá-las em cada dobra, usando um modelo treinado nas dobras restantes:"
      ]
    },
    {
      "cell_type": "code",
      "metadata": {
        "id": "ZpabLMaCR3XS",
        "colab_type": "code",
        "colab": {},
        "outputId": "61ce3b20-7239-4145-a05e-9964d8d0cfd1"
      },
      "source": [
        "never_5_clf = Never5Classifier()\n",
        "cross_val_score(never_5_clf, X_train, y_train_5, cv=3, scoring=\"accuracy\")"
      ],
      "execution_count": 0,
      "outputs": [
        {
          "output_type": "execute_result",
          "data": {
            "text/plain": [
              "array([0.909  , 0.90715, 0.9128 ])"
            ]
          },
          "metadata": {
            "tags": []
          },
          "execution_count": 22
        }
      ]
    },
    {
      "cell_type": "markdown",
      "metadata": {
        "id": "9vpeIwZAR3XU",
        "colab_type": "text"
      },
      "source": [
        "Acima de 95% de acurácia (razão de previsões corretas) em todas as dobras de validação cruzada. Isso parece muito bom, mas antes de ficar muito animado, vamos ver porque um classificador que aparenta ser muito bom pode, na verdade, não ser tão bom assim...\n",
        "\n",
        "Isto é simplesmente porque apenas 10% das imagens são 5s, então se você sempre acha que uma imagem não é 5, você estará certo em 90% do tempo.\n",
        "\n",
        "**Resumindo**: Uma classificação binária em uma configuração desproporcional pode causar resultados enganosos.\n",
        "\n",
        "Isso demonstra por que a precisão geralmente não é a medida de desempenho preferencial para os classificadores, especialmente quando você está lidando com datasets distorcidos (skewed) (ou seja, quando algumas classes são muito mais frequentes do que outras)."
      ]
    },
    {
      "cell_type": "markdown",
      "metadata": {
        "id": "jtl-uyfWR3XU",
        "colab_type": "text"
      },
      "source": [
        "## Matriz de Confusão\n",
        "\n",
        "Uma maneira muito melhor de avaliar o desempenho de um classificador é observar a matriz de confusão. A ideia geral é contar o número de vezes que as instâncias da classe A são classificadas como classe B. Por exemplo, para saber o número de vezes que o classificador confundiu imagens de 5s com 3s, você procuraria na quinta linha e na terceira coluna do matriz de confusão.\n",
        "Para calcular a matriz de confusão, primeiro você precisa ter um conjunto de previsões, para que elas possam ser comparadas com os alvos reais. Você pode fazer previsões no conjunto de testes, mas vamos mantê-lo intocado por enquanto (lembrando que sempre queremos usar o conjunto de testes apenas no final do projeto, depois de ter um classificador pronto para ser iniciado).\n",
        "\n",
        "Em vez disso, você pode usar a função `cross_val_predict()`:"
      ]
    },
    {
      "cell_type": "code",
      "metadata": {
        "id": "6iObxsCYR3XV",
        "colab_type": "code",
        "colab": {}
      },
      "source": [
        "from sklearn.model_selection import cross_val_predict\n",
        "\n",
        "y_train_pred = cross_val_predict(sgd_clf, X_train, y_train_5, cv=3)"
      ],
      "execution_count": 0,
      "outputs": []
    },
    {
      "cell_type": "markdown",
      "metadata": {
        "id": "1HYqXwTQR3XW",
        "colab_type": "text"
      },
      "source": [
        "Assim como a função `cross_val_score()`, `cross_val_predict()` executa a validação cruzada de K-fold, mas, em vez de retornar as pontuações de avaliação, retorna as previsões feitas em cada dobra de teste. Isso significa que você obtém uma previsão limpa para cada instância no conjunto de treinamento (“limpa”, significando que a previsão é feita por um modelo que nunca viu os dados durante o treinamento).\n",
        "\n",
        "Cada linha em uma matriz de confusão representa uma classe real, enquanto cada coluna representa uma classe prevista. \n",
        "\n",
        "A primeira linha desta matriz considera imagens \"não-5\" (a classe negativa): 53.272 delas foram corretamente classificadas como \"não-5\" (elas são chamadas de verdadeiros negativos), enquanto as 1.307 restantes foram erroneamente classificadas como 5s (falsos positivos). \n",
        "\n",
        "A segunda linha considera as imagens de 5s (a classe positiva): 1.077 foram erroneamente classificados como \"não-5s\" (falsos negativos), enquanto os restantes 4.344 foram classificados corretamente como 5s (positivos verdadeiros). "
      ]
    },
    {
      "cell_type": "code",
      "metadata": {
        "id": "fCE6i086R3XX",
        "colab_type": "code",
        "colab": {},
        "outputId": "6a994807-8608-4da9-9790-78bbeb6fb894"
      },
      "source": [
        "from sklearn.metrics import confusion_matrix\n",
        "\n",
        "confusion_matrix(y_train_5, y_train_pred)"
      ],
      "execution_count": 0,
      "outputs": [
        {
          "output_type": "execute_result",
          "data": {
            "text/plain": [
              "array([[53272,  1307],\n",
              "       [ 1077,  4344]], dtype=int64)"
            ]
          },
          "metadata": {
            "tags": []
          },
          "execution_count": 24
        }
      ]
    },
    {
      "cell_type": "markdown",
      "metadata": {
        "id": "6z4UbyM-R3XZ",
        "colab_type": "text"
      },
      "source": [
        "Um classificador perfeito teria apenas verdadeiros positivos e verdadeiros negativos, portanto, sua matriz de confusão teria valores diferentes de zero apenas em sua diagonal principal (parte superior esquerda para a parte inferior direita):"
      ]
    },
    {
      "cell_type": "code",
      "metadata": {
        "id": "5U08YmqTR3Xa",
        "colab_type": "code",
        "colab": {}
      },
      "source": [
        "y_train_perfect_predictions = y_train_5"
      ],
      "execution_count": 0,
      "outputs": []
    },
    {
      "cell_type": "code",
      "metadata": {
        "id": "uAq13w5nR3Xb",
        "colab_type": "code",
        "colab": {},
        "outputId": "19aa36a5-f34b-4e49-ec96-60c79fa1d0dc"
      },
      "source": [
        "confusion_matrix(y_train_5, y_train_perfect_predictions)"
      ],
      "execution_count": 0,
      "outputs": [
        {
          "output_type": "execute_result",
          "data": {
            "text/plain": [
              "array([[54579,     0],\n",
              "       [    0,  5421]], dtype=int64)"
            ]
          },
          "metadata": {
            "tags": []
          },
          "execution_count": 26
        }
      ]
    },
    {
      "cell_type": "markdown",
      "metadata": {
        "id": "nUULQzNKR3Xd",
        "colab_type": "text"
      },
      "source": [
        "A matriz de confusão fornece muitas informações, mas às vezes você pode preferir uma métrica mais concisa. Uma métrica interessante é olhar para a precisão das previsões positivas; isso é chamado a precisão do classificador:\n",
        "\n",
        "\n",
        "## Precisão e Recall\n",
        "Precisão = TP/(TP+FP)\n",
        "\n",
        "Onde:\n",
        "TP é o número de positivos verdadeiros, e FP é o número de falsos positivos.\n",
        "\n",
        "Uma maneira facil de obter precisão perfeita é fazer uma única previsão positiva e garantir que esteja correta (precisão = 1/1 = 100%). Isso não seria muito útil, pois o classificador ignoraria todas, exceto uma instância positiva. Então precisão é tipicamente usada junto com outra métrica chamada recall, também chamada de sensibilidade ou taxa positiva verdadeira (TPR).\n",
        "\n",
        "(TPR): esta é a proporção de instâncias positivas que são corretamente detectadas pelo classificador\n",
        "\n",
        "Recall = TP/(TP+FN)\n",
        "\n",
        "Onde: FN é, obviamente, o número de falsos negativos.\n",
        "\n",
        "\n",
        "O Scikit-Learn fornece várias funções para calcular as métricas do classificador, incluindo precisão e recall:\n"
      ]
    },
    {
      "cell_type": "code",
      "metadata": {
        "id": "sfrQb2HsR3Xe",
        "colab_type": "code",
        "colab": {},
        "outputId": "d9214a14-3001-456a-98b6-a3082a13849c"
      },
      "source": [
        "from sklearn.metrics import precision_score, recall_score\n",
        "\n",
        "print('precisão', precision_score(y_train_5, y_train_pred))\n",
        "\n",
        "print('recall:', recall_score(y_train_5, y_train_pred))"
      ],
      "execution_count": 0,
      "outputs": [
        {
          "output_type": "stream",
          "text": [
            "precisão 0.7687135020350381\n",
            "recall: 0.801328168234643\n"
          ],
          "name": "stdout"
        }
      ]
    },
    {
      "cell_type": "markdown",
      "metadata": {
        "id": "hKbwh2ubR3Xg",
        "colab_type": "text"
      },
      "source": [
        "Agora o seu \"detector de número 5\" não parece tão bom como quando você olhou para a sua precisão. Quando o modelo afirma que uma imagem representa um 5, ela está correta apenas ~77% do tempo. Além disso, detecta apenas ~80% dos 5s.\n",
        "\n",
        "Geralmente é conveniente combinar precisão e recall em uma única métrica chamada pontuação F1, em particular se você precisar de uma maneira simples de comparar dois classificadores. A pontuação F1 é a média harmônica de precisão e recordação.\n",
        "\n",
        "F1 = 2* (precisão*recall)/(precisão+recall) = TP/(TP+((FN+FP)/2))\n",
        "\n",
        "Enquanto a média regular trata todos os valores igualmente, a média harmônica atribui muito mais peso a valores baixos. Como resultado, o classificador só obterá uma pontuação alta na F1 se tanto a recordação quanto a precisão forem altas.\n",
        "\n",
        "**Resumindo**: A média harmônica penaliza mais os valores menores.\n",
        "\n",
        "Para calcular a pontuação F1, simplesmente chame a função `f1_score()`:"
      ]
    },
    {
      "cell_type": "code",
      "metadata": {
        "id": "kXkTZFemR3Xg",
        "colab_type": "code",
        "colab": {},
        "outputId": "f418a122-4a3c-406f-a8e2-55e6798b9261"
      },
      "source": [
        "from sklearn.metrics import f1_score\n",
        "f1_score(y_train_5, y_train_pred)"
      ],
      "execution_count": 0,
      "outputs": [
        {
          "output_type": "execute_result",
          "data": {
            "text/plain": [
              "0.7846820809248555"
            ]
          },
          "metadata": {
            "tags": []
          },
          "execution_count": 28
        }
      ]
    },
    {
      "cell_type": "code",
      "metadata": {
        "id": "cjZX8gd6R3Xi",
        "colab_type": "code",
        "colab": {},
        "outputId": "c928811f-d935-4f34-ba90-8dafc92ef0d8"
      },
      "source": [
        "4344 / (4344 + (1077 + 1307)/2)"
      ],
      "execution_count": 0,
      "outputs": [
        {
          "output_type": "execute_result",
          "data": {
            "text/plain": [
              "0.7846820809248555"
            ]
          },
          "metadata": {
            "tags": []
          },
          "execution_count": 29
        }
      ]
    },
    {
      "cell_type": "markdown",
      "metadata": {
        "id": "z5LbxcmtR3Xl",
        "colab_type": "text"
      },
      "source": [
        "A pontuação de F1 favorece os classificadores que têm precisão e recall semelhantes. \n",
        "\n",
        "Isso nem sempre é o que você quer: em alguns contextos você se preocupa principalmente com a precisão e em outros contextos que realmente se preocupam com o recall. \n",
        "\n",
        "Por exemplo, se você treinou um classificador para detectar vídeos seguros para crianças, provavelmente preferiria um classificador que rejeita muitos vídeos bons (baixo recall), mas mantém apenas os seguros (alta precisão), em vez de um classificador que tem muito maior recall, mas permite que alguns vídeos realmente ruins apareçam em seu produto (nesses casos, você pode até querer adicionar um pipeline humano para verificar a seleção de vídeo do classificador). \n",
        "\n",
        "Por outro lado, suponha que você treine um classificador para detectar ladrões de lojas em imagens de vigilância: provavelmente é bom se seu classificador tiver apenas 30% de precisão, desde que tenha 99% de recall (claro, os seguranças receberão alguns alertas falsos, mas quase todos os ladrões serão pegos).\n",
        "\n",
        "Infelizmente, você não pode ter as duas coisas: o aumento da precisão reduz o recall e vice-versa. Isso é chamado de tradeoff de precisão / recall.\n",
        "\n",
        "## Precisão / Recall Tradeoff\n",
        "\n",
        "Para entender essa desvantagem, vamos ver como o `SGDClassifier` toma suas decisões de classificação. \n",
        "\n",
        "Para cada instância, ele calcula uma pontuação com base em uma função de decisão e, se essa pontuação for maior que um limite, atribui a instância à classe positiva ou a atribui à classe negativa. \n",
        "\n",
        "O Scikit-Learn não permite definir o limite diretamente, mas fornece acesso às pontuações de decisão usadas para fazer previsões. Em vez de chamar o método `predict()` do classificador, você pode chamar o método `decision_function()`, que retorna uma pontuação para cada instância e, em seguida, fazer previsões com base nessas pontuações usando qualquer limite desejado:\n"
      ]
    },
    {
      "cell_type": "code",
      "metadata": {
        "id": "NPesn4lPR3Xm",
        "colab_type": "code",
        "colab": {},
        "outputId": "b8d7a03b-e56d-4652-f634-cd14ae97f03b"
      },
      "source": [
        "y_scores = sgd_clf.decision_function([some_digit])\n",
        "y_scores"
      ],
      "execution_count": 0,
      "outputs": [
        {
          "output_type": "execute_result",
          "data": {
            "text/plain": [
              "array([161855.74572176])"
            ]
          },
          "metadata": {
            "tags": []
          },
          "execution_count": 30
        }
      ]
    },
    {
      "cell_type": "code",
      "metadata": {
        "id": "FP7t-YCwR3Xo",
        "colab_type": "code",
        "colab": {}
      },
      "source": [
        "threshold = 0\n",
        "y_some_digit_pred = (y_scores > threshold)"
      ],
      "execution_count": 0,
      "outputs": []
    },
    {
      "cell_type": "code",
      "metadata": {
        "id": "__kNdZrGR3Xr",
        "colab_type": "code",
        "colab": {},
        "outputId": "faaacf40-976d-4731-e252-fccd5ecb44c0"
      },
      "source": [
        "y_some_digit_pred"
      ],
      "execution_count": 0,
      "outputs": [
        {
          "output_type": "execute_result",
          "data": {
            "text/plain": [
              "array([ True])"
            ]
          },
          "metadata": {
            "tags": []
          },
          "execution_count": 32
        }
      ]
    },
    {
      "cell_type": "markdown",
      "metadata": {
        "id": "KcdjyZK0R3Xt",
        "colab_type": "text"
      },
      "source": [
        "O `SGDClassifier` usa um limite igual a 0, portanto, o código anterior retorna o mesmo resultado que o método `predict()` (ou seja, True). Vamos aumentar o limite:"
      ]
    },
    {
      "cell_type": "code",
      "metadata": {
        "id": "hpKEiRAuR3Xt",
        "colab_type": "code",
        "colab": {},
        "outputId": "25318fb5-4299-4c62-9c1f-f57d581267cd"
      },
      "source": [
        "threshold = 200000\n",
        "y_some_digit_pred = (y_scores > threshold)\n",
        "y_some_digit_pred"
      ],
      "execution_count": 0,
      "outputs": [
        {
          "output_type": "execute_result",
          "data": {
            "text/plain": [
              "array([False])"
            ]
          },
          "metadata": {
            "tags": []
          },
          "execution_count": 33
        }
      ]
    },
    {
      "cell_type": "markdown",
      "metadata": {
        "id": "FLcqkpIsR3Xv",
        "colab_type": "text"
      },
      "source": [
        "Isso confirma que aumentar o limite diminui a recuperação. A imagem realmente representa um 5, e o classificador detecta quando o limiar é 0, mas erra quando o limite é aumentado para 200.000. \n",
        "\n",
        "Então, como você pode decidir qual limite usar? Para isso, primeiro você precisa obter as pontuações de todas as instâncias no conjunto de treinamento usando a função `cross_val_predict()` novamente, mas desta vez especificando que deseja retornar os escores de decisão em vez das previsões:"
      ]
    },
    {
      "cell_type": "code",
      "metadata": {
        "id": "3F69HLM_R3Xv",
        "colab_type": "code",
        "colab": {}
      },
      "source": [
        "y_scores = cross_val_predict(sgd_clf, X_train, y_train_5, cv=3,\n",
        "                             method=\"decision_function\")"
      ],
      "execution_count": 0,
      "outputs": []
    },
    {
      "cell_type": "markdown",
      "metadata": {
        "id": "TfoQbkCuR3Xy",
        "colab_type": "text"
      },
      "source": [
        "Agora, com essas pontuações, você pode calcular a precisão e o recall para todos os possíveis limites usando a função `precision_recall_curve()`:\n",
        "\n",
        "**Nota**: houve um [problema] (https://github.com/scikit-learn/scikit-learn/issues/9589) no Scikit-Learn 0.19.0 (corrigido em 0.19.1) onde o resultado de `cross_val_predict() `estava incorreto no caso de classificação binária ao usar`method=\"decision_function\"`, como no código acima. O array resultante tinha uma primeira dimensão extra cheia de 0s. Apenas no caso de você estar usando 0.19.0, precisamos adicionar este pequeno hack para contornar esse problema:"
      ]
    },
    {
      "cell_type": "code",
      "metadata": {
        "id": "xXLLuUazR3Xy",
        "colab_type": "code",
        "colab": {},
        "outputId": "1e8125ee-a709-4411-ed3f-cfcf11d15caa"
      },
      "source": [
        "y_scores.shape"
      ],
      "execution_count": 0,
      "outputs": [
        {
          "output_type": "execute_result",
          "data": {
            "text/plain": [
              "(60000,)"
            ]
          },
          "metadata": {
            "tags": []
          },
          "execution_count": 35
        }
      ]
    },
    {
      "cell_type": "code",
      "metadata": {
        "id": "MqJM5Rn4R3X1",
        "colab_type": "code",
        "colab": {}
      },
      "source": [
        "# hack para resolver o problema #9589 com o Scikit-Learn 0.19.0\n",
        "if y_scores.ndim == 2:\n",
        "    y_scores = y_scores[:, 1]"
      ],
      "execution_count": 0,
      "outputs": []
    },
    {
      "cell_type": "code",
      "metadata": {
        "id": "P2Pib7OHR3X2",
        "colab_type": "code",
        "colab": {}
      },
      "source": [
        "from sklearn.metrics import precision_recall_curve\n",
        "\n",
        "precisions, recalls, thresholds = precision_recall_curve(y_train_5, y_scores)"
      ],
      "execution_count": 0,
      "outputs": []
    },
    {
      "cell_type": "code",
      "metadata": {
        "id": "pBQVkQNZR3X4",
        "colab_type": "code",
        "colab": {},
        "outputId": "86ac7446-e876-49c7-fc29-0af73ef1c526"
      },
      "source": [
        "def plot_precision_recall_vs_threshold(precisions, recalls, thresholds):\n",
        "    plt.plot(thresholds, precisions[:-1], \"b--\", label=\"Precisão\", linewidth=2)\n",
        "    plt.plot(thresholds, recalls[:-1], \"g-\", label=\"Recall\", linewidth=2)\n",
        "    plt.xlabel(\"Limiar\", fontsize=16)\n",
        "    plt.legend(loc=\"upper left\", fontsize=16)\n",
        "    plt.ylim([0, 1])\n",
        "\n",
        "plt.figure(figsize=(8, 4))\n",
        "plot_precision_recall_vs_threshold(precisions, recalls, thresholds)\n",
        "plt.xlim([-700000, 700000])\n",
        "plt.show()"
      ],
      "execution_count": 0,
      "outputs": [
        {
          "output_type": "stream",
          "text": [
            "Saving figure precision_recall_vs_threshold_plot\n"
          ],
          "name": "stdout"
        },
        {
          "output_type": "display_data",
          "data": {
            "image/png": "[encoded data removed]",
            "text/plain": [
              "<Figure size 576x288 with 1 Axes>"
            ]
          },
          "metadata": {
            "tags": []
          }
        }
      ]
    },
    {
      "cell_type": "markdown",
      "metadata": {
        "id": "eAG832PSR3X5",
        "colab_type": "text"
      },
      "source": [
        "**Explicando o comportamento das curvas**: Por que a curva de precisão é mais irregular do que a curva de recall? \n",
        "\n",
        "A razão é que, às vezes, a precisão pode diminuir quando você aumenta o limite (embora, em geral, ele suba). Por outro lado, o recall só pode diminuir quando o limite é aumentado, o que explica por que sua curva parece suave.\n",
        "\n",
        "Agora você pode simplesmente selecionar o valor limite que lhe dá o melhor tradeoff de precisão / recall para sua tarefa."
      ]
    },
    {
      "cell_type": "code",
      "metadata": {
        "id": "gBPmNKw6R3X6",
        "colab_type": "code",
        "colab": {},
        "outputId": "98d36b89-be37-4657-801e-9fdf529e1ba7"
      },
      "source": [
        "(y_train_pred == (y_scores > 0)).all()"
      ],
      "execution_count": 0,
      "outputs": [
        {
          "output_type": "execute_result",
          "data": {
            "text/plain": [
              "True"
            ]
          },
          "metadata": {
            "tags": []
          },
          "execution_count": 39
        }
      ]
    },
    {
      "cell_type": "markdown",
      "metadata": {
        "id": "lYhzvN3gR3X7",
        "colab_type": "text"
      },
      "source": [
        "Outra maneira de selecionar uma boa troca de precisão / recall é plotar a precisão diretamente contra o recall, como mostrado a seguir:"
      ]
    },
    {
      "cell_type": "code",
      "metadata": {
        "id": "-cUiAE-qR3X9",
        "colab_type": "code",
        "colab": {},
        "outputId": "65fcbd46-d65b-4153-a4f7-1d5cfee101b9"
      },
      "source": [
        "def plot_precision_vs_recall(precisions, recalls):\n",
        "    plt.plot(recalls, precisions, \"b-\", linewidth=2)\n",
        "    plt.xlabel(\"Recall\", fontsize=16)\n",
        "    plt.ylabel(\"Precisão\", fontsize=16)\n",
        "    plt.axis([0, 1, 0, 1])\n",
        "\n",
        "plt.figure(figsize=(8, 6))\n",
        "plot_precision_vs_recall(precisions, recalls)\n",
        "plt.show()"
      ],
      "execution_count": 0,
      "outputs": [
        {
          "output_type": "stream",
          "text": [
            "Saving figure precision_vs_recall_plot\n"
          ],
          "name": "stdout"
        },
        {
          "output_type": "display_data",
          "data": {
            "image/png": "[encoded data removed]",
            "text/plain": [
              "<Figure size 576x432 with 1 Axes>"
            ]
          },
          "metadata": {
            "tags": []
          }
        }
      ]
    },
    {
      "cell_type": "markdown",
      "metadata": {
        "id": "d4U7NkWHR3X_",
        "colab_type": "text"
      },
      "source": [
        "Você pode ver que a precisão realmente começa a cair drasticamente em torno de 80%. Você provavelmente desejará selecionar um tradeoff de precisão / recall logo antes da queda - por exemplo, com cerca de 60% de recall. Mas é claro que a escolha depende do seu projeto. \n",
        "\n",
        "Então, suponhamos que você tenha a meta de 90% de precisão. Você procura no primeiro gráfico (ampliando um pouco) e descobre que precisa usar um limite de cerca de 70.000. Para fazer previsões (no conjunto de treinamento, por enquanto), em vez de chamar o método `predict()` do classificador, basta executar este código:"
      ]
    },
    {
      "cell_type": "code",
      "metadata": {
        "id": "P2xufe_ZR3X_",
        "colab_type": "code",
        "colab": {}
      },
      "source": [
        "y_train_pred_90 = (y_scores > 70000)"
      ],
      "execution_count": 0,
      "outputs": []
    },
    {
      "cell_type": "code",
      "metadata": {
        "id": "AkZ4VTBDR3YB",
        "colab_type": "code",
        "colab": {},
        "outputId": "faebf467-ab90-4cce-a2bc-0c0cdb0099a5"
      },
      "source": [
        "precision_score(y_train_5, y_train_pred_90)"
      ],
      "execution_count": 0,
      "outputs": [
        {
          "output_type": "execute_result",
          "data": {
            "text/plain": [
              "0.8659205116491548"
            ]
          },
          "metadata": {
            "tags": []
          },
          "execution_count": 42
        }
      ]
    },
    {
      "cell_type": "code",
      "metadata": {
        "id": "ChTtMVhYR3YD",
        "colab_type": "code",
        "colab": {},
        "outputId": "c2cde541-198e-4baf-e2a8-7bc5822bccbf"
      },
      "source": [
        "recall_score(y_train_5, y_train_pred_90)"
      ],
      "execution_count": 0,
      "outputs": [
        {
          "output_type": "execute_result",
          "data": {
            "text/plain": [
              "0.6993174691016417"
            ]
          },
          "metadata": {
            "tags": []
          },
          "execution_count": 43
        }
      ]
    },
    {
      "cell_type": "markdown",
      "metadata": {
        "id": "gNPsGzEdR3YF",
        "colab_type": "text"
      },
      "source": [
        "Ótimo, você tem um classificador de precisão de >85%! Como você pode ver, é bastante fácil criar um classificador com praticamente qualquer precisão desejada: basta definir um limite suficientemente alto e pronto!\n",
        "\n",
        "**Lembrando**: Um classificador de alta precisão não é muito útil se o seu recall for muito baixo! Se alguém disser \"vamos chegar a 99% de precisão\", você deve perguntar \"a que recall?\""
      ]
    },
    {
      "cell_type": "markdown",
      "metadata": {
        "id": "SUmU997mR3YG",
        "colab_type": "text"
      },
      "source": [
        "# ROC curves\n",
        "\n",
        "A curva característica de operação do receptor (ROC) é outra ferramenta comum usada classificadores binários. \n",
        "\n",
        "É muito semelhante à curva de precisão / recall, mas em vez de plotar precisão versus recall, a curva ROC traça a taxa positiva verdadeira (outro nome para recall) contra a taxa de falsos positivos (FPR). \n",
        "\n",
        "O FPR é a proporção de instâncias negativas que são incorretamente classificadas como positivas. É igual a um menos a taxa real negativa, que é a proporção de instâncias negativas que são corretamente classificadas como negativas (TNR). \n",
        "\n",
        "O TNR também é chamado de especificidade. Portanto, a curva ROC plota:\n",
        "\n",
        "sensibilidade versus (1 - especificidade).\n",
        "\n",
        "Para plotar a curva ROC, primeiro você precisa calcular o TPR e o FPR para vários valores de limite, usando a função `roc_curve()`:"
      ]
    },
    {
      "cell_type": "code",
      "metadata": {
        "id": "01KGfnuTR3YG",
        "colab_type": "code",
        "colab": {}
      },
      "source": [
        "from sklearn.metrics import roc_curve\n",
        "\n",
        "fpr, tpr, thresholds = roc_curve(y_train_5, y_scores)"
      ],
      "execution_count": 0,
      "outputs": []
    },
    {
      "cell_type": "code",
      "metadata": {
        "id": "9McNbhwbR3YH",
        "colab_type": "code",
        "colab": {},
        "outputId": "d86a43f3-4934-4e48-9127-defd4500eddc"
      },
      "source": [
        "def plot_roc_curve(fpr, tpr, label=None):\n",
        "    plt.plot(fpr, tpr, linewidth=2, label=label)\n",
        "    plt.plot([0, 1], [0, 1], 'k--')\n",
        "    plt.axis([0, 1, 0, 1])\n",
        "    plt.xlabel('False Positive Rate', fontsize=16)\n",
        "    plt.ylabel('True Positive Rate', fontsize=16)\n",
        "\n",
        "plt.figure(figsize=(8, 6))\n",
        "plot_roc_curve(fpr, tpr)\n",
        "plt.show()"
      ],
      "execution_count": 0,
      "outputs": [
        {
          "output_type": "stream",
          "text": [
            "Saving figure roc_curve_plot\n"
          ],
          "name": "stdout"
        },
        {
          "output_type": "display_data",
          "data": {
            "image/png": "[encoded data removed]",
            "text/plain": [
              "<Figure size 576x432 with 1 Axes>"
            ]
          },
          "metadata": {
            "tags": []
          }
        }
      ]
    },
    {
      "cell_type": "markdown",
      "metadata": {
        "id": "lnyYXEl2R3YJ",
        "colab_type": "text"
      },
      "source": [
        "Mais uma vez, existe um tradeoff: quanto maior o recall (TPR), mais falsos positivos (FPR) o classificador produz. \n",
        "\n",
        "A linha pontilhada representa a curva ROC de um classificador puramente aleatório; um bom classificador fica o mais longe possível dessa linha (em direção ao canto superior esquerdo). \n",
        "\n",
        "Uma maneira de comparar os classificadores é medir a área sob a curva (AUC). Um classificador perfeito terá uma AUC ROC igual a 1, enquanto um classificador puramente aleatório terá uma AUC ROC igual a 0,5. \n",
        "\n",
        "O Scikit-Learn fornece uma função para calcular a AUC do ROC:"
      ]
    },
    {
      "cell_type": "code",
      "metadata": {
        "id": "nwsLAJiJR3YK",
        "colab_type": "code",
        "colab": {},
        "outputId": "6df36dd9-2097-45c9-a7f9-92f0ed93d994"
      },
      "source": [
        "from sklearn.metrics import roc_auc_score\n",
        "\n",
        "roc_auc_score(y_train_5, y_scores)"
      ],
      "execution_count": 0,
      "outputs": [
        {
          "output_type": "execute_result",
          "data": {
            "text/plain": [
              "0.9624496555967155"
            ]
          },
          "metadata": {
            "tags": []
          },
          "execution_count": 46
        }
      ]
    },
    {
      "cell_type": "markdown",
      "metadata": {
        "id": "4c79XNr_R3YM",
        "colab_type": "text"
      },
      "source": [
        "Como a curva ROC é tão semelhante à curva de precisão / recall (ou PR), você pode se perguntar como decidir qual delas usar. \n",
        "\n",
        "Como regra geral, você deve preferir a curva PR sempre que a classe positiva for rara ou quando você se importar mais com os falsos positivos do que com os falsos negativos e a curva ROC no caso contrário.\n",
        "\n",
        "Por exemplo, olhando para a curva ROC anterior (e a pontuação ROC AUC), você pode pensar que o classificador é realmente bom. Mas isso é principalmente porque existem poucos positivos (5s) em comparação com os negativos (não-5s). \n",
        "\n",
        "Em contraste, a curva PR deixa claro que o classificador tem espaço para melhorias (a curva pode estar mais próxima do canto superior direito).\n",
        "\n",
        "\n",
        "Vamos treinar um `RandomForestClassifier` e comparar sua curva ROC e pontuação ROC AUC para o `SGDClassifier`. \n",
        "\n",
        "Primeiro, você precisa obter pontuações para cada instância no conjunto de treinamento. Mas devido à maneira como funciona, o classificador `RandomForestClassifier` não possui um método `decision_function()`. \n",
        "\n",
        "Em vez disso, ele tem um método pre `dict_proba()`. \n",
        "\n",
        "Os classificadores do Scikit-Learn geralmente possuem um ou outro. \n",
        "\n",
        "O método `predict_proba()` retorna uma matriz contendo uma linha por instância e uma coluna por classe, cada uma contendo a probabilidade de que a instância determinada pertença à classe determinada (por exemplo, 70% de chance de a imagem representar um 5):"
      ]
    },
    {
      "cell_type": "code",
      "metadata": {
        "id": "c9J4H-gwR3YM",
        "colab_type": "code",
        "colab": {}
      },
      "source": [
        "from sklearn.ensemble import RandomForestClassifier\n",
        "forest_clf = RandomForestClassifier(n_estimators=10, random_state=42)\n",
        "y_probas_forest = cross_val_predict(forest_clf, X_train, y_train_5, cv=3,\n",
        "                                    method=\"predict_proba\")"
      ],
      "execution_count": 0,
      "outputs": []
    },
    {
      "cell_type": "markdown",
      "metadata": {
        "id": "ug3_079-R3YO",
        "colab_type": "text"
      },
      "source": [
        "**Nota**: nós definimos `n_estimators = 10` para evitar um aviso sobre o fato de que seu valor padrão será ajustado para 100 no Scikit-Learn 0.22.\n",
        "\n",
        "\n",
        "Mas para plotar uma curva ROC, você precisa de pontuações, não de probabilidades. Uma solução simples é usar a probabilidade da classe positiva como a pontuação:"
      ]
    },
    {
      "cell_type": "code",
      "metadata": {
        "id": "SO90cqbOR3YO",
        "colab_type": "code",
        "colab": {}
      },
      "source": [
        "y_scores_forest = y_probas_forest[:, 1] # score = proba of positive class\n",
        "fpr_forest, tpr_forest, thresholds_forest = roc_curve(y_train_5,y_scores_forest)"
      ],
      "execution_count": 0,
      "outputs": []
    },
    {
      "cell_type": "code",
      "metadata": {
        "id": "mdMxER3TR3YP",
        "colab_type": "code",
        "colab": {},
        "outputId": "80dc6f4f-aece-4041-d854-bca22a66c7b5"
      },
      "source": [
        "plt.figure(figsize=(8, 6))\n",
        "plt.plot(fpr, tpr, \"b:\", linewidth=2, label=\"SGD\")\n",
        "plot_roc_curve(fpr_forest, tpr_forest, \"Random Forest\")\n",
        "plt.legend(loc=\"lower right\", fontsize=16)\n",
        "plt.show()"
      ],
      "execution_count": 0,
      "outputs": [
        {
          "output_type": "stream",
          "text": [
            "Saving figure roc_curve_comparison_plot\n"
          ],
          "name": "stdout"
        },
        {
          "output_type": "display_data",
          "data": {
            "image/png": "[encoded data removed]",
            "text/plain": [
              "<Figure size 576x432 with 1 Axes>"
            ]
          },
          "metadata": {
            "tags": []
          }
        }
      ]
    },
    {
      "cell_type": "markdown",
      "metadata": {
        "id": "l_vIS4csR3YR",
        "colab_type": "text"
      },
      "source": [
        "Como você pode ver, a curva ROC do `RandomForestClassifier` parece muito melhor do que a do `SGDClassifier`: ela fica muito mais próxima do canto superior esquerdo. \n",
        "\n",
        "Como resultado, sua pontuação na ROC AUC também é significativamente melhor:"
      ]
    },
    {
      "cell_type": "code",
      "metadata": {
        "id": "o99nTyPKR3YS",
        "colab_type": "code",
        "colab": {},
        "outputId": "c1bca00f-597d-45b1-b0e8-a3005fc982e9"
      },
      "source": [
        "roc_auc_score(y_train_5, y_scores_forest)"
      ],
      "execution_count": 0,
      "outputs": [
        {
          "output_type": "execute_result",
          "data": {
            "text/plain": [
              "0.9931243366003829"
            ]
          },
          "metadata": {
            "tags": []
          },
          "execution_count": 50
        }
      ]
    },
    {
      "cell_type": "code",
      "metadata": {
        "id": "GoXq-cKuR3YV",
        "colab_type": "code",
        "colab": {},
        "outputId": "1e6133c9-c688-4011-fc78-8cb4df855fe7"
      },
      "source": [
        "y_train_pred_forest = cross_val_predict(forest_clf, X_train, y_train_5, cv=3)\n",
        "print('precisão:', precision_score(y_train_5, y_train_pred_forest))\n",
        "print('recall:', recall_score(y_train_5, y_train_pred_forest))"
      ],
      "execution_count": 0,
      "outputs": [
        {
          "output_type": "stream",
          "text": [
            "precisão: 0.9852973447443494\n",
            "recall: 0.8282604685482383\n"
          ],
          "name": "stdout"
        }
      ]
    },
    {
      "cell_type": "markdown",
      "metadata": {
        "id": "hISRzBQpR3YY",
        "colab_type": "text"
      },
      "source": [
        "Medindo a precisão e as pontuações de recall: encontramos 98,5% de precisão e 82,8% de recall. \n",
        "\n",
        "Com isso, encerramos os classificadores binários!\n",
        "\n",
        "**Dica**: Sempre que for treinar classificadores binários, escolha a métrica apropriada para sua tarefa, avalie seus classificadores usando validação cruzada, selecione a troca de precisão / recall que atenda às suas necessidades e compare vários modelos usando curvas ROC e pontuações ROC AUC. \n",
        "\n",
        "\n",
        "Agora vamos tentar detectar mais do que apenas os 5s com Classificação Multiclasse."
      ]
    },
    {
      "cell_type": "markdown",
      "metadata": {
        "id": "S1oNjTH9R3YZ",
        "colab_type": "text"
      },
      "source": [
        "# Classificação Multiclasse\n",
        "\n",
        "Enquanto os classificadores binários distinguem entre duas classes (0, 1), os classificadores multiclasse (também chamados de classificadores multinomiais) podem distinguir entre mais de duas classes.\n",
        "\n",
        "\n",
        "Alguns algoritmos (como classificadores Random Forest ou classificadores Naive Bayes) são capazes de lidar com várias classes diretamente. Outros (como classificadores Support Vector Machine ou classificadores lineares) são classificadores estritamente binários. \n",
        "\n",
        "No entanto, existem várias estratégias que você pode usar para executar a classificação multiclasse usando vários classificadores binários.\n",
        "\n",
        "Por exemplo, uma maneira de criar um sistema que possa classificar as imagens digitadas em 10 classes (de 0 a 9) é treinar 10 classificadores binários, um para cada dígito (um detector de 0, um detector de 1, um detector de 2 e assim por diante). \n",
        "\n",
        "Então, quando você deseja classificar uma imagem, você obtém a pontuação de decisão de cada classificador para essa imagem e seleciona a classe cujo classificador gera a pontuação mais alta. Isso é chamado de estratégia one-versus-all (OvA) (também chamado de one-versus-rest).\n",
        "\n",
        "Outra estratégia é treinar um classificador binário para cada par de dígitos: um para distinguir 0s e 1s, outro para distinguir 0s e 2s, outro para 1s e 2s, e assim por diante. Isso é chamado de estratégia de one-versus-one (OvO). \n",
        "\n",
        "Se houver classes N, você precisa treinar classificadores N × (N - 1) / 2. \n",
        "\n",
        "Para o problema MNIST, isso significa treinar 45 classificadores binários! \n",
        "\n",
        "Quando você quer classificar uma imagem, você tem que executar a imagem através de todos os 45 classificadores e ver qual classe vence a maioria dos duelos. \n",
        "\n",
        "A principal vantagem do OvO é que cada classificador só precisa ser treinado por parte do conjunto de treinamento para as duas classes que ele deve distinguir.\n",
        "\n",
        "Alguns algoritmos (como os classificadores Support Vector Machine) têm um escalonamento ruim com o tamanho do dataset, portanto, para esses casos, o OvO é preferido, pois é mais rápido treinar muitos classificadores em datasets pequenos do que treinar poucos classificadores em grandes datasets. \n",
        "\n",
        "Para a maioria dos algoritmos de classificação binária, no entanto, o OvA é o preferido. \n",
        "\n",
        "O Scikit-Learn detecta quando você tenta usar um algoritmo de classificação binária para uma tarefa de classificação multiclasse e executa automaticamente o OvA (exceto para os classificadores SVM para os quais ele usa o OvO). \n",
        "\n",
        "Vamos tentar isso com o `SGDClassifier`:"
      ]
    },
    {
      "cell_type": "code",
      "metadata": {
        "id": "7GScSXr-R3Ya",
        "colab_type": "code",
        "colab": {},
        "outputId": "2afec2c9-4448-430f-8fd3-dfeb8ed5045b"
      },
      "source": [
        "sgd_clf.fit(X_train, y_train)\n",
        "sgd_clf.predict([some_digit])"
      ],
      "execution_count": 0,
      "outputs": [
        {
          "output_type": "execute_result",
          "data": {
            "text/plain": [
              "array([5.])"
            ]
          },
          "metadata": {
            "tags": []
          },
          "execution_count": 52
        }
      ]
    },
    {
      "cell_type": "markdown",
      "metadata": {
        "id": "RMM-apgIR3Yc",
        "colab_type": "text"
      },
      "source": [
        "Esse código treina o `SGDClassifier` no dataset usando as classes de destino originais de 0 a 9 (y_train), em vez das classes de destino 5 versus todas (y_train_5). \n",
        "\n",
        "E então faz uma previsão (correta neste caso). No backend, o Scikit-Learn realmente treinou 10 classificadores binários, obteve suas pontuações de decisão para a imagem e selecionou a classe com a maior pontuação. \n",
        "\n",
        "Para ver que este é realmente o caso, você pode chamar o método `decision_function()`. \n",
        "\n",
        "Em vez de retornar apenas uma pontuação por instância, agora retorna 10 pontuações, uma por turma:"
      ]
    },
    {
      "cell_type": "code",
      "metadata": {
        "id": "xY80R4RmR3Yd",
        "colab_type": "code",
        "colab": {},
        "outputId": "c9cc5abe-dd03-4cad-8761-d29121e681e1"
      },
      "source": [
        "some_digit_scores = sgd_clf.decision_function([some_digit])\n",
        "some_digit_scores"
      ],
      "execution_count": 0,
      "outputs": [
        {
          "output_type": "execute_result",
          "data": {
            "text/plain": [
              "array([[-311402.62954431, -363517.28355739, -446449.5306454 ,\n",
              "        -183226.61023518, -414337.15339485,  161855.74572176,\n",
              "        -452576.39616343, -471957.14962573, -518542.33997148,\n",
              "        -536774.63961222]])"
            ]
          },
          "metadata": {
            "tags": []
          },
          "execution_count": 53
        }
      ]
    },
    {
      "cell_type": "markdown",
      "metadata": {
        "id": "AlT1f407R3Yf",
        "colab_type": "text"
      },
      "source": [
        "E com isso confirmamos que a classe 5 tem o maior score"
      ]
    },
    {
      "cell_type": "code",
      "metadata": {
        "id": "DUryH2j4R3Yf",
        "colab_type": "code",
        "colab": {},
        "outputId": "c09d0c5c-0ab4-4537-d5fb-c77cd2a3ab9a"
      },
      "source": [
        "np.argmax(some_digit_scores)"
      ],
      "execution_count": 0,
      "outputs": [
        {
          "output_type": "execute_result",
          "data": {
            "text/plain": [
              "5"
            ]
          },
          "metadata": {
            "tags": []
          },
          "execution_count": 54
        }
      ]
    },
    {
      "cell_type": "code",
      "metadata": {
        "id": "xYGnR51JR3Yh",
        "colab_type": "code",
        "colab": {},
        "outputId": "d8756133-5531-46dd-f11a-f8cb429285d5"
      },
      "source": [
        "sgd_clf.classes_"
      ],
      "execution_count": 0,
      "outputs": [
        {
          "output_type": "execute_result",
          "data": {
            "text/plain": [
              "array([0., 1., 2., 3., 4., 5., 6., 7., 8., 9.])"
            ]
          },
          "metadata": {
            "tags": []
          },
          "execution_count": 55
        }
      ]
    },
    {
      "cell_type": "code",
      "metadata": {
        "id": "rndqwoedR3Yk",
        "colab_type": "code",
        "colab": {},
        "outputId": "718dbce7-cf79-4a67-8353-89389ec5ef5b"
      },
      "source": [
        "sgd_clf.classes_[5]"
      ],
      "execution_count": 0,
      "outputs": [
        {
          "output_type": "execute_result",
          "data": {
            "text/plain": [
              "5.0"
            ]
          },
          "metadata": {
            "tags": []
          },
          "execution_count": 56
        }
      ]
    },
    {
      "cell_type": "markdown",
      "metadata": {
        "id": "VW1YDTPNR3Ym",
        "colab_type": "text"
      },
      "source": [
        "**Nota**: Quando um classificador é treinado, ele armazena a lista de classes de destino em seu classes_attribute, ordenada por valor. Nesse caso, o índice de cada classe no classes_array corresponde à classe propriamente dita (por exemplo, a classe no índice 5 passa a ser classe 5), mas em geral isso nem sempre acontece!\n",
        "\n",
        "\n",
        "Se você quer forçar o ScikitLearn a usar um contra um ou um contra tudo, você pode usar as classes `OneVsOneClassifier` ou `OneVsRestClassifier`. \n",
        "\n",
        "Basta criar uma instância e passar um classificador binário para seu construtor. \n",
        "\n",
        "Por exemplo, este código cria um classificador multiclasse usando a estratégia OvO, baseada em um `SGDClassifier`:"
      ]
    },
    {
      "cell_type": "code",
      "metadata": {
        "id": "CbX281O0R3Ym",
        "colab_type": "code",
        "colab": {},
        "outputId": "16a80198-da32-4833-94a2-cfebc853767c"
      },
      "source": [
        "from sklearn.multiclass import OneVsOneClassifier\n",
        "ovo_clf = OneVsOneClassifier(SGDClassifier(max_iter=5, tol=-np.infty, random_state=42))\n",
        "ovo_clf.fit(X_train, y_train)\n",
        "ovo_clf.predict([some_digit])"
      ],
      "execution_count": 0,
      "outputs": [
        {
          "output_type": "execute_result",
          "data": {
            "text/plain": [
              "array([5.])"
            ]
          },
          "metadata": {
            "tags": []
          },
          "execution_count": 57
        }
      ]
    },
    {
      "cell_type": "code",
      "metadata": {
        "id": "MiEuwrtER3Yo",
        "colab_type": "code",
        "colab": {},
        "outputId": "6ad94105-0976-4a71-8b81-37d1a449d0d0"
      },
      "source": [
        "len(ovo_clf.estimators_)"
      ],
      "execution_count": 0,
      "outputs": [
        {
          "output_type": "execute_result",
          "data": {
            "text/plain": [
              "45"
            ]
          },
          "metadata": {
            "tags": []
          },
          "execution_count": 58
        }
      ]
    },
    {
      "cell_type": "markdown",
      "metadata": {
        "id": "Z2weCN-cR3Yp",
        "colab_type": "text"
      },
      "source": [
        "E treinando um `RandomForestClassifier` da mesma forma:"
      ]
    },
    {
      "cell_type": "code",
      "metadata": {
        "id": "-qc5XQB2R3Yp",
        "colab_type": "code",
        "colab": {},
        "outputId": "2deb2ddb-a9e2-48cc-f128-f1eda64ec864"
      },
      "source": [
        "forest_clf.fit(X_train, y_train)\n",
        "forest_clf.predict([some_digit])"
      ],
      "execution_count": 0,
      "outputs": [
        {
          "output_type": "execute_result",
          "data": {
            "text/plain": [
              "array([5.])"
            ]
          },
          "metadata": {
            "tags": []
          },
          "execution_count": 59
        }
      ]
    },
    {
      "cell_type": "markdown",
      "metadata": {
        "id": "R-Emj2eDR3Yr",
        "colab_type": "text"
      },
      "source": [
        "Desta vez, o Scikit-Learn não precisou executar OvA ou OvO porque os classificadores Random Forest podem classificar diretamente as instâncias em várias classes. \n",
        "\n",
        "Você pode chamar `predict_proba()` para obter a lista de probabilidades que o classificador atribuiu a cada instância para cada classe:"
      ]
    },
    {
      "cell_type": "code",
      "metadata": {
        "id": "goGIrVm_R3Yr",
        "colab_type": "code",
        "colab": {},
        "outputId": "cf1487b8-df5d-4909-d5c2-425761b36288"
      },
      "source": [
        "forest_clf.predict_proba([some_digit])"
      ],
      "execution_count": 0,
      "outputs": [
        {
          "output_type": "execute_result",
          "data": {
            "text/plain": [
              "array([[0.1, 0. , 0. , 0.1, 0. , 0.8, 0. , 0. , 0. , 0. ]])"
            ]
          },
          "metadata": {
            "tags": []
          },
          "execution_count": 60
        }
      ]
    },
    {
      "cell_type": "markdown",
      "metadata": {
        "id": "iIZcNhKXR3Ys",
        "colab_type": "text"
      },
      "source": [
        "Você pode ver que o classificador está bastante confiante em relação à sua previsão: o 0,8 no 5º índice da matriz significa que o modelo estima uma probabilidade de 80% de que a imagem seria um numero 5. Tambem podemos notar um 10% chance da imagem ser classificada como 0 ou 3.\n",
        "\n",
        "Agora, para avaliar esses classificadores, como de costume, vamos avaliar a precisão do `SGDClassifier` usando a função `cross_val_score()`:"
      ]
    },
    {
      "cell_type": "code",
      "metadata": {
        "id": "PD23CUEYR3Yt",
        "colab_type": "code",
        "colab": {},
        "outputId": "29e2ac02-d6ce-4f52-e385-cf4305372908"
      },
      "source": [
        "cross_val_score(sgd_clf, X_train, y_train, cv=3, scoring=\"accuracy\")"
      ],
      "execution_count": 0,
      "outputs": [
        {
          "output_type": "execute_result",
          "data": {
            "text/plain": [
              "array([0.84063187, 0.84899245, 0.86652998])"
            ]
          },
          "metadata": {
            "tags": []
          },
          "execution_count": 61
        }
      ]
    },
    {
      "cell_type": "markdown",
      "metadata": {
        "id": "QDp09PNdR3Yu",
        "colab_type": "text"
      },
      "source": [
        "O classificador obtém mais de 84% em todas as dobras de teste. Se você usou um classificador aleatório, você obteria 10% de precisão, então essa não é uma pontuação tão ruim, mas ainda podemos fazer muito melhor. \n",
        "\n",
        "Por exemplo, simplesmente escalar as entradas (como discutido na aula anterior) aumenta a precisão acima de 90%, como podemos ver:"
      ]
    },
    {
      "cell_type": "code",
      "metadata": {
        "id": "WYhVLWAFR3Yu",
        "colab_type": "code",
        "colab": {},
        "outputId": "9fc91e92-bb3b-4f18-aaff-4b05d35fb5b5"
      },
      "source": [
        "from sklearn.preprocessing import StandardScaler\n",
        "scaler = StandardScaler()\n",
        "X_train_scaled = scaler.fit_transform(X_train.astype(np.float64))\n",
        "cross_val_score(sgd_clf, X_train_scaled, y_train, cv=3, scoring=\"accuracy\")"
      ],
      "execution_count": 0,
      "outputs": [
        {
          "output_type": "execute_result",
          "data": {
            "text/plain": [
              "array([0.91011798, 0.90874544, 0.906636  ])"
            ]
          },
          "metadata": {
            "tags": []
          },
          "execution_count": 62
        }
      ]
    },
    {
      "cell_type": "markdown",
      "metadata": {
        "id": "okaBmgmNR3Yw",
        "colab_type": "text"
      },
      "source": [
        "## Erro de análise\n",
        "\n",
        "Naturalmente, se este fosse um projeto real, você seguiria as etapas da sua lista de verificação de aprendizado de máquina:\n",
        "\n",
        "-explorando opções de preparação de dados;\n",
        "\n",
        "-experimentando vários modelos;\n",
        "\n",
        "-selecionando os melhores e ajustando seus hiperparâmetros usando `GridSearchCV`;\n",
        "\n",
        "-automatizando o máximo possível;\n",
        "\n",
        "Aqui, vamos supor que você encontrou um modelo promissor e deseja encontrar maneiras de melhorá-lo. \n",
        "\n",
        "Uma maneira de fazer isso é analisar os tipos de erros cometidos. \n",
        "\n",
        "Primeiro, você pode ver a matriz de confusão. Você precisa fazer previsões usando a função `cross_val_predict()` e, em seguida, chamar a função `confusion_matrix()`, assim como fizemos anteriormente:"
      ]
    },
    {
      "cell_type": "code",
      "metadata": {
        "id": "oM-DR0u0R3Yx",
        "colab_type": "code",
        "colab": {},
        "outputId": "2c2e00ab-e669-4513-9bf8-f02d89285b4f"
      },
      "source": [
        "y_train_pred = cross_val_predict(sgd_clf, X_train_scaled, y_train, cv=3)\n",
        "conf_mx = confusion_matrix(y_train, y_train_pred)\n",
        "conf_mx"
      ],
      "execution_count": 0,
      "outputs": [
        {
          "output_type": "execute_result",
          "data": {
            "text/plain": [
              "array([[5725,    3,   24,    9,   10,   49,   50,   10,   39,    4],\n",
              "       [   2, 6493,   43,   25,    7,   40,    5,   10,  109,    8],\n",
              "       [  51,   41, 5321,  104,   89,   26,   87,   60,  166,   13],\n",
              "       [  47,   46,  141, 5342,    1,  231,   40,   50,  141,   92],\n",
              "       [  19,   29,   41,   10, 5366,    9,   56,   37,   86,  189],\n",
              "       [  73,   45,   36,  193,   64, 4582,  111,   30,  193,   94],\n",
              "       [  29,   34,   44,    2,   42,   85, 5627,   10,   45,    0],\n",
              "       [  25,   24,   74,   32,   54,   12,    6, 5787,   15,  236],\n",
              "       [  52,  161,   73,  156,   10,  163,   61,   25, 5027,  123],\n",
              "       [  43,   35,   26,   92,  178,   28,    2,  223,   82, 5240]],\n",
              "      dtype=int64)"
            ]
          },
          "metadata": {
            "tags": []
          },
          "execution_count": 63
        }
      ]
    },
    {
      "cell_type": "markdown",
      "metadata": {
        "id": "2crzzmyUR3Yz",
        "colab_type": "text"
      },
      "source": [
        "Isso é um monte de números. \n",
        "\n",
        "Muitas vezes, é mais conveniente observar uma representação de imagem da matriz de confusão, usando a `função matshow()` do Matplotlib:"
      ]
    },
    {
      "cell_type": "code",
      "metadata": {
        "id": "sNUu7GF4R3Yz",
        "colab_type": "code",
        "colab": {}
      },
      "source": [
        "def plot_confusion_matrix(matrix):\n",
        "    \"\"\"If you prefer color and a colorbar\"\"\"\n",
        "    fig = plt.figure(figsize=(8,8))\n",
        "    ax = fig.add_subplot(111)\n",
        "    cax = ax.matshow(matrix)\n",
        "    fig.colorbar(cax)"
      ],
      "execution_count": 0,
      "outputs": []
    },
    {
      "cell_type": "code",
      "metadata": {
        "id": "UuYSQDCsR3Y0",
        "colab_type": "code",
        "colab": {},
        "outputId": "f03f42a5-c041-4456-e7c7-4a8461ae4020"
      },
      "source": [
        "plt.matshow(conf_mx, cmap=plt.cm.gray)\n",
        "save_fig(\"confusion_matrix_plot\", tight_layout=False)\n",
        "plt.show()"
      ],
      "execution_count": 0,
      "outputs": [
        {
          "output_type": "stream",
          "text": [
            "Saving figure confusion_matrix_plot\n"
          ],
          "name": "stdout"
        },
        {
          "output_type": "display_data",
          "data": {
            "image/png": "[encoded data removed]",
            "text/plain": [
              "<Figure size 288x288 with 1 Axes>"
            ]
          },
          "metadata": {
            "tags": []
          }
        }
      ]
    },
    {
      "cell_type": "markdown",
      "metadata": {
        "id": "0YCoOeiaR3Y2",
        "colab_type": "text"
      },
      "source": [
        "Essa matriz de confusão parece bastante boa, já que a maioria das imagens está na diagonal principal, o que significa que elas foram classificadas corretamente. \n",
        "\n",
        "Os 5s parecem um pouco mais escuros do que os outros dígitos, o que pode significar que há menos imagens de 5s no conjunto de dados ou que o classificador não executa tão bem em 5s quanto em outros dígitos.\n",
        "\n",
        "Na verdade, podemos verificar se ambos são o caso. \n",
        "\n",
        "Vamos focar o plot nos erros. \n",
        "\n",
        "Primeiro, você precisa dividir cada valor na matriz de confusão pelo número de imagens na classe correspondente, para que você possa comparar as taxas de erro em vez do número absoluto de erros (o que faria com que classes abundantes parecessem injustamente ruins):"
      ]
    },
    {
      "cell_type": "code",
      "metadata": {
        "id": "lR1rOwrKR3Y2",
        "colab_type": "code",
        "colab": {}
      },
      "source": [
        "row_sums = conf_mx.sum(axis=1, keepdims=True)\n",
        "norm_conf_mx = conf_mx / row_sums"
      ],
      "execution_count": 0,
      "outputs": []
    },
    {
      "cell_type": "markdown",
      "metadata": {
        "id": "2yz1YmAXR3Y7",
        "colab_type": "text"
      },
      "source": [
        "Agora vamos preencher a diagonal com zeros para manter apenas os erros, e vamos plotar o resultado:"
      ]
    },
    {
      "cell_type": "code",
      "metadata": {
        "id": "k6BRwsg_R3Y8",
        "colab_type": "code",
        "colab": {},
        "outputId": "43044f28-e1bb-4cab-dd18-545f538eb796"
      },
      "source": [
        "np.fill_diagonal(norm_conf_mx, 0)\n",
        "plt.matshow(norm_conf_mx, cmap=plt.cm.gray)\n",
        "save_fig(\"confusion_matrix_errors_plot\", tight_layout=False)\n",
        "plt.show()"
      ],
      "execution_count": 0,
      "outputs": [
        {
          "output_type": "stream",
          "text": [
            "Saving figure confusion_matrix_errors_plot\n"
          ],
          "name": "stdout"
        },
        {
          "output_type": "display_data",
          "data": {
            "image/png": "[encoded data removed]",
            "text/plain": [
              "<Figure size 288x288 with 1 Axes>"
            ]
          },
          "metadata": {
            "tags": []
          }
        }
      ]
    },
    {
      "cell_type": "markdown",
      "metadata": {
        "id": "aOOoY0iaR3Y9",
        "colab_type": "text"
      },
      "source": [
        "Agora podemos ver claramente os tipos de erros que o classificador faz. \n",
        "\n",
        "Lembrando que as linhas representam classes reais, enquanto as colunas representam as classes previstas. \n",
        "\n",
        "As colunas das classes 8 e 9 são bastante claras, o que indica que muitas imagens são classificadas erroneamente como 8s ou 9s. \n",
        "\n",
        "Da mesma forma, as linhas das classes 8 e 9 também são bastante brilhantes, informando que 8s e 9s são frequentemente confundidos com outros dígitos. \n",
        "\n",
        "Por outro lado, algumas linhas são muito escuras, como a linha 1: isso significa que a maioria dos 1s é classificada corretamente (alguns são confundidos com 8s, mas isso é tudo). \n",
        "\n",
        "Observe que os erros não são perfeitamente simétricos; Por exemplo, há mais 5s incorretamente classificados como 8s do que o inverso. \n",
        "\n",
        "Analisar a matriz de confusão muitas vezes pode fornecer informações sobre maneiras de melhorar seu classificador.\n",
        "\n",
        "Olhando para estes resultados, parece que os nossos esforços devem ser gastos na melhoria da classificação de 8s e 9s, bem como corrigir a confusão específica de 3 e 5. \n",
        "\n",
        "Por exemplo, podemos tentar reunir mais dados de treinamento para esses dígitos. \n",
        "\n",
        "Ou você poderia criar novos recursos que ajudariam o classificador - por exemplo, escrever um algoritmo para contar o número de loops fechados (por exemplo, 8 tem dois, 6 tem um, 5 não tem nenhum). Ou você poderia pré-processar as imagens (por exemplo, usando Scikit-Image, Pillow ou OpenCV) para destacar alguns padrões, como loops fechados.\n",
        "\n",
        "A análise de erros individuais também pode ser uma boa maneira de obter insights sobre o que seu classificador está fazendo e por que está falhando, mas é mais difícil e demorado. \n",
        "\n",
        "Por exemplo, vamos traçar exemplos de 3s e 5s:"
      ]
    },
    {
      "cell_type": "code",
      "metadata": {
        "id": "HPeUfsdBR3Y-",
        "colab_type": "code",
        "colab": {},
        "outputId": "ca2767b8-7f11-4589-eb20-598bdb24f0fd"
      },
      "source": [
        "cl_a, cl_b = 3, 5\n",
        "X_aa = X_train[(y_train == cl_a) & (y_train_pred == cl_a)]\n",
        "X_ab = X_train[(y_train == cl_a) & (y_train_pred == cl_b)]\n",
        "X_ba = X_train[(y_train == cl_b) & (y_train_pred == cl_a)]\n",
        "X_bb = X_train[(y_train == cl_b) & (y_train_pred == cl_b)]\n",
        "\n",
        "plt.figure(figsize=(8,8))\n",
        "plt.subplot(221); plot_digits(X_aa[:25], images_per_row=5)\n",
        "plt.subplot(222); plot_digits(X_ab[:25], images_per_row=5)\n",
        "plt.subplot(223); plot_digits(X_ba[:25], images_per_row=5)\n",
        "plt.subplot(224); plot_digits(X_bb[:25], images_per_row=5)\n",
        "save_fig(\"error_analysis_digits_plot\")\n",
        "plt.show()"
      ],
      "execution_count": 0,
      "outputs": [
        {
          "output_type": "stream",
          "text": [
            "Saving figure error_analysis_digits_plot\n"
          ],
          "name": "stdout"
        },
        {
          "output_type": "display_data",
          "data": {
            "image/png": "[encoded data removed]",
            "text/plain": [
              "<Figure size 576x576 with 4 Axes>"
            ]
          },
          "metadata": {
            "tags": []
          }
        }
      ]
    },
    {
      "cell_type": "markdown",
      "metadata": {
        "id": "BZLzAEyNR3ZC",
        "colab_type": "text"
      },
      "source": [
        "Os dois blocos 5 × 5 à esquerda mostram dígitos classificados como 3s e os dois blocos 5 × 5 à direita mostram imagens classificadas como 5s. \n",
        "\n",
        "Alguns dos dígitos que o classificador erra (ou seja, nos blocos inferior esquerdo e superior direito) são tão mal escritos que até um ser humano teria dificuldade em classificá-los (por exemplo, os 5 na 8ª linha e na 1ª coluna realmente parecem como um 3). \n",
        "\n",
        "No entanto, a maioria das imagens equivocadas parece ser um erro óbvio para nós, e é difícil entender por que o classificador cometeu os erros cometidos. \n",
        "\n",
        "O motivo é que usamos um `SGDClassifier` simples, que é um modelo linear. Tudo o que faz é atribuir um peso por classe a cada pixel e, quando vê uma nova imagem, resume as intensidades de pixels ponderadas para obter uma pontuação para cada classe. \n",
        "\n",
        "Então, como 3s e 5s diferem apenas por alguns pixels, esse modelo irá facilmente confundi-los.\n",
        "\n",
        "A principal diferença entre 3s e 5s é a posição da pequena linha que une a linha superior ao arco inferior. \n",
        "\n",
        "Se você desenhar um 3 com a junção levemente deslocada para a esquerda, o classificador poderá classificá-lo como 5 e vice-versa. \n",
        "\n",
        "Em outras palavras, esse classificador é bastante sensível à mudança e rotação de imagens. \n",
        "\n",
        "Portanto, uma maneira de reduzir a confusão 3/5 seria pré-processar as imagens para garantir que elas sejam bem centralizadas e não giradas demais. \n",
        "\n",
        "Isso provavelmente ajudará a reduzir outros erros também."
      ]
    },
    {
      "cell_type": "markdown",
      "metadata": {
        "id": "pampMtbtR3ZC",
        "colab_type": "text"
      },
      "source": [
        "# Classificação Multilabel\n",
        "\n",
        "Até agora, cada instância sempre foi atribuída a apenas uma classe. Em alguns casos você pode querer que seu classificador envie várias classes para cada instância. \n",
        "\n",
        "Por exemplo, considere um classificador de reconhecimento de rosto: o que ele deve fazer se reconhecer várias pessoas na mesma imagem? Claro que deve anexar um rótulo por pessoa que reconhece. \n",
        "\n",
        "Digamos que o classificador tenha sido treinado para reconhecer três rostos, Ana, Rogerio e Carlos; então quando é mostrada uma foto de Ana e Carlos, deve sair [1, 0, 1] (significando “Ana sim, Rogerio não, Carlos sim”). \n",
        "\n",
        "Tal sistema de classificação que gera múltiplos rótulos binários é chamado de sistema de classificação multi-rótulo.\n",
        "\n",
        "Ainda não vamos ao reconhecimento facial, mas vamos ver um exemplo mais simples, apenas como prova de conceito:"
      ]
    },
    {
      "cell_type": "code",
      "metadata": {
        "id": "lq8b92E8R3ZC",
        "colab_type": "code",
        "colab": {},
        "outputId": "e0bb44a9-ca21-450b-a5f6-6e31bb77321f"
      },
      "source": [
        "from sklearn.neighbors import KNeighborsClassifier\n",
        "\n",
        "y_train_large = (y_train >= 7)\n",
        "y_train_odd = (y_train % 2 == 1)\n",
        "y_multilabel = np.c_[y_train_large, y_train_odd]\n",
        "\n",
        "knn_clf = KNeighborsClassifier()\n",
        "knn_clf.fit(X_train, y_multilabel)"
      ],
      "execution_count": 0,
      "outputs": [
        {
          "output_type": "execute_result",
          "data": {
            "text/plain": [
              "KNeighborsClassifier(algorithm='auto', leaf_size=30, metric='minkowski',\n",
              "           metric_params=None, n_jobs=1, n_neighbors=5, p=2,\n",
              "           weights='uniform')"
            ]
          },
          "metadata": {
            "tags": []
          },
          "execution_count": 69
        }
      ]
    },
    {
      "cell_type": "markdown",
      "metadata": {
        "id": "FyxvFh_VR3ZE",
        "colab_type": "text"
      },
      "source": [
        "Esse código cria um array y_multilabel contendo dois labels de destino para cada imagem de dígito: a primeira indica se o dígito é grande ou não (7, 8 ou 9) e a segunda indica se é ou não ímpar. \n",
        "\n",
        "As próximas linhas criam uma instância do `KNeighborsClassifier` (que suporta classificação multilabel, mas nem todos os classificadores suportam) e nós a treinamos usando o array de múltiplos alvos. \n",
        "\n",
        "Agora você pode fazer uma previsão e perceber que ela gera dois rótulos:"
      ]
    },
    {
      "cell_type": "code",
      "metadata": {
        "id": "QinohtD1R3ZE",
        "colab_type": "code",
        "colab": {},
        "outputId": "00cd58f8-ab67-4855-a6f1-8c0f0b27042f"
      },
      "source": [
        "knn_clf.predict([some_digit])"
      ],
      "execution_count": 0,
      "outputs": [
        {
          "output_type": "execute_result",
          "data": {
            "text/plain": [
              "array([[False,  True]])"
            ]
          },
          "metadata": {
            "tags": []
          },
          "execution_count": 70
        }
      ]
    },
    {
      "cell_type": "markdown",
      "metadata": {
        "id": "sI_Ee_U2R3ZF",
        "colab_type": "text"
      },
      "source": [
        "E como podemos ver, o dígito 5 não é de fato grande (False) e ímpar (True). \n",
        "\n",
        "Há muitas maneiras de avaliar um classificador de vários rótulos, e selecionar a métrica correta realmente depende do seu projeto. \n",
        "\n",
        "Por exemplo, uma abordagem é medir a pontuação F1 para cada rótulo individual (ou qualquer outra métrica de classificação binária discutida anteriormente) e, em seguida, simplesmente calcular a pontuação média. \n",
        "\n",
        "Esse código calcula a pontuação média da F1 em todos os rótulos:"
      ]
    },
    {
      "cell_type": "markdown",
      "metadata": {
        "id": "XTGtaBkzR3ZF",
        "colab_type": "text"
      },
      "source": [
        "**Atenção**: a seguinte célula pode demorar muito tempo (possivelmente horas dependendo do seu hardware)."
      ]
    },
    {
      "cell_type": "code",
      "metadata": {
        "id": "--TQGoFMR3ZG",
        "colab_type": "code",
        "colab": {},
        "outputId": "48b62c69-e85a-4967-d0fe-2c15a7fe3807"
      },
      "source": [
        "y_train_knn_pred = cross_val_predict(knn_clf, X_train, y_multilabel, cv=3, n_jobs=-1)\n",
        "f1_score(y_multilabel, y_train_knn_pred, average=\"macro\")"
      ],
      "execution_count": 0,
      "outputs": [
        {
          "output_type": "execute_result",
          "data": {
            "text/plain": [
              "0.97709078477525"
            ]
          },
          "metadata": {
            "tags": []
          },
          "execution_count": 71
        }
      ]
    },
    {
      "cell_type": "markdown",
      "metadata": {
        "id": "uN9RFWlVR3ZH",
        "colab_type": "text"
      },
      "source": [
        "Isso pressupõe que todos os rótulos são igualmente importantes, o que pode não ser o caso. \n",
        "\n",
        "Em particular, se você tiver mais fotos de Ana do que do Rogerio ou do Carlos, talvez queira dar mais peso à pontuação do classificador nas fotos de Ana. \n",
        "Uma opção simples é dar a cada label um peso igual ao seu suporte (ou seja, o número de instâncias com esse label alvo). \n",
        "\n",
        "Para fazer isso, basta definir `average = \"weighted\"` no código anterior"
      ]
    },
    {
      "cell_type": "markdown",
      "metadata": {
        "id": "q4e2lm9AR3ZI",
        "colab_type": "text"
      },
      "source": [
        "## Classificação Multioutput"
      ]
    },
    {
      "cell_type": "markdown",
      "metadata": {
        "id": "JXIOTnmeR3ZI",
        "colab_type": "text"
      },
      "source": [
        "O último tipo de tarefa de classificação que vamos discutir aqui é chamado classificação multioutput-multiclass (ou simplesmente classificação multioutput). É simplesmente uma generalização da classificação multilabel, onde cada etiqueta pode ser multiclasse (isto é, pode ter mais de dois valores possíveis).\n",
        "\n",
        "Para ilustrar isso, vamos criar um sistema que remova o ruído das imagens. Ele terá como entrada uma imagem com dígitos ruidosos, e produzirá (se tudo der certo) uma imagem com dígitos limpos, representada como uma matriz de intensidades de pixel, assim como as imagens MNIST. \n",
        "\n",
        "Observe que a saída do classificador é multilabel (um rótulo por pixel) e cada rótulo pode ter vários valores (intervalos de intensidade de pixel de 0 a 255).\n",
        "\n",
        "É, portanto, um exemplo de um sistema de classificação de múltiplas saídas.\n",
        "\n",
        "**NOTA:** A linha entre classificação e regressão é às vezes embaçada, como neste exemplo. Indiscutivelmente, a previsão da intensidade do pixel é mais semelhante à regressão do que à classificação. Além disso, os sistemas de múltiplas saídas não se limitam a tarefas de classificação; Você pode até ter um sistema que produza vários rótulos por instância, incluindo rótulos de classe e rótulos de valor.\n",
        "\n",
        "Vamos começar criando os conjuntos de treinamento e teste pegando as imagens MNIST e adicionando ruído às suas intensidades de pixel usando a função `randint()` do NumPy. As imagens de destino serão as imagens originais:"
      ]
    },
    {
      "cell_type": "code",
      "metadata": {
        "id": "PdaqCWzeR3ZI",
        "colab_type": "code",
        "colab": {}
      },
      "source": [
        "noise = np.random.randint(0, 100, (len(X_train), 784))\n",
        "X_train_mod = X_train + noise\n",
        "noise = np.random.randint(0, 100, (len(X_test), 784))\n",
        "X_test_mod = X_test + noise\n",
        "y_train_mod = X_train\n",
        "y_test_mod = X_test"
      ],
      "execution_count": 0,
      "outputs": []
    },
    {
      "cell_type": "markdown",
      "metadata": {
        "id": "V9qRa0X8R3ZM",
        "colab_type": "text"
      },
      "source": [
        "Vamos dar uma olhada em uma imagem do conjunto de testes:"
      ]
    },
    {
      "cell_type": "code",
      "metadata": {
        "id": "RyjKZ5RNR3ZM",
        "colab_type": "code",
        "colab": {}
      },
      "source": [
        "some_index = 5500\n",
        "plt.subplot(121); plot_digit(X_test_mod[some_index])\n",
        "plt.subplot(122); plot_digit(y_test_mod[some_index])\n",
        "plt.show()"
      ],
      "execution_count": 0,
      "outputs": []
    },
    {
      "cell_type": "markdown",
      "metadata": {
        "id": "XQY74dgFR3ZP",
        "colab_type": "text"
      },
      "source": [
        "À esquerda está a imagem de entrada ruidosa e à direita está a imagem alvo limpa. Agora vamos treinar o classificador e torná-lo limpo esta imagem:"
      ]
    },
    {
      "cell_type": "code",
      "metadata": {
        "id": "2gL4__VTR3ZQ",
        "colab_type": "code",
        "colab": {}
      },
      "source": [
        "knn_clf.fit(X_train_mod, y_train_mod)\n",
        "clean_digit = knn_clf.predict([X_test_mod[some_index]])\n",
        "plot_digit(clean_digit)"
      ],
      "execution_count": 0,
      "outputs": []
    },
    {
      "cell_type": "markdown",
      "metadata": {
        "id": "7rUqWhKbR3ZS",
        "colab_type": "text"
      },
      "source": [
        "Parece perto o suficiente do que queriamos!"
      ]
    },
    {
      "cell_type": "markdown",
      "metadata": {
        "id": "Su-MmhcNR3ZT",
        "colab_type": "text"
      },
      "source": [
        "## Classificador Dummy (aleatório)"
      ]
    },
    {
      "cell_type": "code",
      "metadata": {
        "id": "_939n_OUR3ZT",
        "colab_type": "code",
        "colab": {}
      },
      "source": [
        "from sklearn.dummy import DummyClassifier\n",
        "dmy_clf = DummyClassifier()\n",
        "y_probas_dmy = cross_val_predict(dmy_clf, X_train, y_train_5, cv=3, method=\"predict_proba\")\n",
        "y_scores_dmy = y_probas_dmy[:, 1]"
      ],
      "execution_count": 0,
      "outputs": []
    },
    {
      "cell_type": "code",
      "metadata": {
        "scrolled": true,
        "id": "ugZSI5EDR3ZY",
        "colab_type": "code",
        "colab": {}
      },
      "source": [
        "fprr, tprr, thresholdsr = roc_curve(y_train_5, y_scores_dmy)\n",
        "plot_roc_curve(fprr, tprr)"
      ],
      "execution_count": 0,
      "outputs": []
    },
    {
      "cell_type": "markdown",
      "metadata": {
        "id": "T59wFhMiR3ZZ",
        "colab_type": "text"
      },
      "source": [
        "## Classificador KNN "
      ]
    },
    {
      "cell_type": "code",
      "metadata": {
        "id": "q1uzbdTkR3ZZ",
        "colab_type": "code",
        "colab": {}
      },
      "source": [
        "from sklearn.neighbors import KNeighborsClassifier\n",
        "knn_clf = KNeighborsClassifier(n_jobs=-1, weights='distance', n_neighbors=4)\n",
        "knn_clf.fit(X_train, y_train)"
      ],
      "execution_count": 0,
      "outputs": []
    },
    {
      "cell_type": "code",
      "metadata": {
        "id": "fbr7TJzBR3Zb",
        "colab_type": "code",
        "colab": {}
      },
      "source": [
        "y_knn_pred = knn_clf.predict(X_test)"
      ],
      "execution_count": 0,
      "outputs": []
    },
    {
      "cell_type": "code",
      "metadata": {
        "id": "6Oew0bPlR3Zc",
        "colab_type": "code",
        "colab": {}
      },
      "source": [
        "from sklearn.metrics import accuracy_score\n",
        "accuracy_score(y_test, y_knn_pred)"
      ],
      "execution_count": 0,
      "outputs": []
    },
    {
      "cell_type": "code",
      "metadata": {
        "id": "joFXFZT2R3Zc",
        "colab_type": "code",
        "colab": {}
      },
      "source": [
        "from scipy.ndimage.interpolation import shift\n",
        "def shift_digit(digit_array, dx, dy, new=0):\n",
        "    return shift(digit_array.reshape(28, 28), [dy, dx], cval=new).reshape(784)\n",
        "\n",
        "plot_digit(shift_digit(some_digit, 5, 1, new=100))"
      ],
      "execution_count": 0,
      "outputs": []
    },
    {
      "cell_type": "code",
      "metadata": {
        "id": "jmhfjlLAR3Zd",
        "colab_type": "code",
        "colab": {}
      },
      "source": [
        "X_train_expanded = [X_train]\n",
        "y_train_expanded = [y_train]\n",
        "for dx, dy in ((1, 0), (-1, 0), (0, 1), (0, -1)):\n",
        "    shifted_images = np.apply_along_axis(shift_digit, axis=1, arr=X_train, dx=dx, dy=dy)\n",
        "    X_train_expanded.append(shifted_images)\n",
        "    y_train_expanded.append(y_train)\n",
        "\n",
        "X_train_expanded = np.concatenate(X_train_expanded)\n",
        "y_train_expanded = np.concatenate(y_train_expanded)\n",
        "X_train_expanded.shape, y_train_expanded.shape"
      ],
      "execution_count": 0,
      "outputs": []
    },
    {
      "cell_type": "code",
      "metadata": {
        "id": "GLFBmU29R3Ze",
        "colab_type": "code",
        "colab": {}
      },
      "source": [
        "knn_clf.fit(X_train_expanded, y_train_expanded)"
      ],
      "execution_count": 0,
      "outputs": []
    },
    {
      "cell_type": "code",
      "metadata": {
        "id": "z_ZbWhcOR3Zf",
        "colab_type": "code",
        "colab": {}
      },
      "source": [
        "y_knn_expanded_pred = knn_clf.predict(X_test)"
      ],
      "execution_count": 0,
      "outputs": []
    },
    {
      "cell_type": "code",
      "metadata": {
        "id": "IOjRnHa2R3Zg",
        "colab_type": "code",
        "colab": {}
      },
      "source": [
        "accuracy_score(y_test, y_knn_expanded_pred)"
      ],
      "execution_count": 0,
      "outputs": []
    },
    {
      "cell_type": "code",
      "metadata": {
        "id": "w9C5jr1XR3Zg",
        "colab_type": "code",
        "colab": {}
      },
      "source": [
        "ambiguous_digit = X_test[2589]\n",
        "knn_clf.predict_proba([ambiguous_digit])"
      ],
      "execution_count": 0,
      "outputs": []
    },
    {
      "cell_type": "code",
      "metadata": {
        "id": "3UAk-9nBR3Zh",
        "colab_type": "code",
        "colab": {}
      },
      "source": [
        "plot_digit(ambiguous_digit)"
      ],
      "execution_count": 0,
      "outputs": []
    }
  ]
}